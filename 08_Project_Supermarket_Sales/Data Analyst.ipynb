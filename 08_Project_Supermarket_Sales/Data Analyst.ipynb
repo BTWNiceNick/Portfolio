{
 "cells": [
  {
   "cell_type": "markdown",
   "id": "943963bd",
   "metadata": {},
   "source": [
    "# Description\n",
    "[Dataset](https://www.kaggle.com/aungpyaeap/supermarket-sales)\n",
    "\n",
    "The growth of supermarkets in most populated cities are increasing and market competitions are also high. The dataset is one of the historical sales of supermarket company which has recorded in 3 different branches for 3 months data. Predictive data analytics methods are easy to apply with this dataset.\n",
    "\n",
    "Attribute information\n",
    "\n",
    "- Invoice id: Computer generated sales slip invoice identification number\n",
    "\n",
    "- Branch: Branch of supercenter (3 branches are available identified by A, B and C).\n",
    "\n",
    "- City: Location of supercenters\n",
    "\n",
    "- Customer type: Type of customers, recorded by Members for customers using member card and Normal for without member card.\n",
    "\n",
    "- Gender: Gender type of customer\n",
    "\n",
    "- Product line: General item categorization groups - Electronic accessories, Fashion accessories, Food and beverages, Health  and beauty, Home and lifestyle, Sports and travel\n",
    "\n",
    "- Unit price: Price of each product in $\n",
    "\n",
    "- Quantity: Number of products purchased by customer\n",
    "\n",
    "- Tax: 5% tax fee for customer buying\n",
    "\n",
    "- Total: Total price including tax\n",
    "\n",
    "- Date: Date of purchase (Record available from January 2019 to March 2019)\n",
    "\n",
    "- Time: Purchase time (10am to 9pm)\n",
    "\n",
    "- Payment: Payment used by customer for purchase (3 methods are available – Cash, Credit card and Ewallet)\n",
    "\n",
    "- COGS: Cost of goods sold\n",
    "\n",
    "- Gross margin percentage: Gross margin percentage\n",
    "\n",
    "- Gross income: Gross income\n",
    "\n",
    "- Rating: Customer stratification rating on their overall shopping experience (On a scale of 1 to 10)\n",
    "\n",
    "Acknowledgements\n",
    "\n",
    "Thanks to all who take time and energy to perform Kernels with this dataset and reviewers.\n",
    "\n",
    "### Purpose\n",
    "\n",
    "This dataset can be used for predictive data analytics purpose."
   ]
  },
  {
   "cell_type": "markdown",
   "id": "df47bdd3",
   "metadata": {},
   "source": [
    "# Initial Fase"
   ]
  },
  {
   "cell_type": "code",
   "execution_count": 1,
   "id": "022e9181",
   "metadata": {},
   "outputs": [],
   "source": [
    "import pandas as pd\n",
    "import seaborn as sns\n",
    "sns.set_theme(style=\"whitegrid\")\n",
    "import numpy as np\n",
    "import matplotlib.pyplot as plt\n",
    "\n",
    "# In case we want to ignore the warning parts @-@\n",
    "import warnings\n",
    "warnings.filterwarnings(\"ignore\")"
   ]
  },
  {
   "cell_type": "markdown",
   "id": "ae9bc7f4",
   "metadata": {},
   "source": [
    "# Discovery\n",
    "## Outlook"
   ]
  },
  {
   "cell_type": "code",
   "execution_count": 2,
   "id": "f00fd27c",
   "metadata": {},
   "outputs": [],
   "source": [
    "raw = pd.read_csv('./Data/supermarket_sales - Sheet1.csv')"
   ]
  },
  {
   "cell_type": "code",
   "execution_count": 3,
   "id": "4c5b231e",
   "metadata": {
    "scrolled": true
   },
   "outputs": [
    {
     "data": {
      "text/html": [
       "<div>\n",
       "<style scoped>\n",
       "    .dataframe tbody tr th:only-of-type {\n",
       "        vertical-align: middle;\n",
       "    }\n",
       "\n",
       "    .dataframe tbody tr th {\n",
       "        vertical-align: top;\n",
       "    }\n",
       "\n",
       "    .dataframe thead th {\n",
       "        text-align: right;\n",
       "    }\n",
       "</style>\n",
       "<table border=\"1\" class=\"dataframe\">\n",
       "  <thead>\n",
       "    <tr style=\"text-align: right;\">\n",
       "      <th></th>\n",
       "      <th>Invoice ID</th>\n",
       "      <th>Branch</th>\n",
       "      <th>City</th>\n",
       "      <th>Customer type</th>\n",
       "      <th>Gender</th>\n",
       "      <th>Product line</th>\n",
       "      <th>Unit price</th>\n",
       "      <th>Quantity</th>\n",
       "      <th>Tax 5%</th>\n",
       "      <th>Total</th>\n",
       "      <th>Date</th>\n",
       "      <th>Time</th>\n",
       "      <th>Payment</th>\n",
       "      <th>cogs</th>\n",
       "      <th>gross margin percentage</th>\n",
       "      <th>gross income</th>\n",
       "      <th>Rating</th>\n",
       "    </tr>\n",
       "  </thead>\n",
       "  <tbody>\n",
       "    <tr>\n",
       "      <th>204</th>\n",
       "      <td>394-43-4238</td>\n",
       "      <td>B</td>\n",
       "      <td>Mandalay</td>\n",
       "      <td>Member</td>\n",
       "      <td>Male</td>\n",
       "      <td>Home and lifestyle</td>\n",
       "      <td>17.77</td>\n",
       "      <td>5</td>\n",
       "      <td>4.4425</td>\n",
       "      <td>93.2925</td>\n",
       "      <td>2/15/2019</td>\n",
       "      <td>12:42</td>\n",
       "      <td>Credit card</td>\n",
       "      <td>88.85</td>\n",
       "      <td>4.761905</td>\n",
       "      <td>4.4425</td>\n",
       "      <td>5.4</td>\n",
       "    </tr>\n",
       "    <tr>\n",
       "      <th>878</th>\n",
       "      <td>448-61-3783</td>\n",
       "      <td>A</td>\n",
       "      <td>Yangon</td>\n",
       "      <td>Normal</td>\n",
       "      <td>Female</td>\n",
       "      <td>Electronic accessories</td>\n",
       "      <td>90.02</td>\n",
       "      <td>8</td>\n",
       "      <td>36.0080</td>\n",
       "      <td>756.1680</td>\n",
       "      <td>3/21/2019</td>\n",
       "      <td>16:08</td>\n",
       "      <td>Credit card</td>\n",
       "      <td>720.16</td>\n",
       "      <td>4.761905</td>\n",
       "      <td>36.0080</td>\n",
       "      <td>4.5</td>\n",
       "    </tr>\n",
       "    <tr>\n",
       "      <th>592</th>\n",
       "      <td>560-49-6611</td>\n",
       "      <td>A</td>\n",
       "      <td>Yangon</td>\n",
       "      <td>Member</td>\n",
       "      <td>Female</td>\n",
       "      <td>Sports and travel</td>\n",
       "      <td>45.58</td>\n",
       "      <td>1</td>\n",
       "      <td>2.2790</td>\n",
       "      <td>47.8590</td>\n",
       "      <td>2/7/2019</td>\n",
       "      <td>14:13</td>\n",
       "      <td>Cash</td>\n",
       "      <td>45.58</td>\n",
       "      <td>4.761905</td>\n",
       "      <td>2.2790</td>\n",
       "      <td>9.8</td>\n",
       "    </tr>\n",
       "  </tbody>\n",
       "</table>\n",
       "</div>"
      ],
      "text/plain": [
       "      Invoice ID Branch      City Customer type  Gender  \\\n",
       "204  394-43-4238      B  Mandalay        Member    Male   \n",
       "878  448-61-3783      A    Yangon        Normal  Female   \n",
       "592  560-49-6611      A    Yangon        Member  Female   \n",
       "\n",
       "               Product line  Unit price  Quantity   Tax 5%     Total  \\\n",
       "204      Home and lifestyle       17.77         5   4.4425   93.2925   \n",
       "878  Electronic accessories       90.02         8  36.0080  756.1680   \n",
       "592       Sports and travel       45.58         1   2.2790   47.8590   \n",
       "\n",
       "          Date   Time      Payment    cogs  gross margin percentage  \\\n",
       "204  2/15/2019  12:42  Credit card   88.85                 4.761905   \n",
       "878  3/21/2019  16:08  Credit card  720.16                 4.761905   \n",
       "592   2/7/2019  14:13         Cash   45.58                 4.761905   \n",
       "\n",
       "     gross income  Rating  \n",
       "204        4.4425     5.4  \n",
       "878       36.0080     4.5  \n",
       "592        2.2790     9.8  "
      ]
     },
     "execution_count": 3,
     "metadata": {},
     "output_type": "execute_result"
    }
   ],
   "source": [
    "raw.sample(3)"
   ]
  },
  {
   "cell_type": "code",
   "execution_count": 4,
   "id": "d04c8144",
   "metadata": {
    "scrolled": true
   },
   "outputs": [
    {
     "name": "stdout",
     "output_type": "stream",
     "text": [
      "<class 'pandas.core.frame.DataFrame'>\n",
      "RangeIndex: 1000 entries, 0 to 999\n",
      "Data columns (total 17 columns):\n",
      " #   Column                   Non-Null Count  Dtype  \n",
      "---  ------                   --------------  -----  \n",
      " 0   Invoice ID               1000 non-null   object \n",
      " 1   Branch                   1000 non-null   object \n",
      " 2   City                     1000 non-null   object \n",
      " 3   Customer type            1000 non-null   object \n",
      " 4   Gender                   1000 non-null   object \n",
      " 5   Product line             1000 non-null   object \n",
      " 6   Unit price               1000 non-null   float64\n",
      " 7   Quantity                 1000 non-null   int64  \n",
      " 8   Tax 5%                   1000 non-null   float64\n",
      " 9   Total                    1000 non-null   float64\n",
      " 10  Date                     1000 non-null   object \n",
      " 11  Time                     1000 non-null   object \n",
      " 12  Payment                  1000 non-null   object \n",
      " 13  cogs                     1000 non-null   float64\n",
      " 14  gross margin percentage  1000 non-null   float64\n",
      " 15  gross income             1000 non-null   float64\n",
      " 16  Rating                   1000 non-null   float64\n",
      "dtypes: float64(7), int64(1), object(9)\n",
      "memory usage: 132.9+ KB\n"
     ]
    }
   ],
   "source": [
    "raw.info()"
   ]
  },
  {
   "cell_type": "markdown",
   "id": "2dda13c5",
   "metadata": {},
   "source": [
    "# NaN value\n",
    "Non sono presenti a prima vista valori mancanti"
   ]
  },
  {
   "cell_type": "markdown",
   "id": "57f5d619",
   "metadata": {},
   "source": [
    "# Data Exploration and Selection"
   ]
  },
  {
   "cell_type": "markdown",
   "id": "127a2f42",
   "metadata": {},
   "source": [
    "# Rename columns\n",
    "Bisogna rinominare le colonne per facilitare il lavoro con esse"
   ]
  },
  {
   "cell_type": "code",
   "execution_count": 5,
   "id": "8c70fe98",
   "metadata": {
    "scrolled": true
   },
   "outputs": [
    {
     "data": {
      "text/plain": [
       "Index(['Invoice ID', 'Branch', 'City', 'Customer type', 'Gender',\n",
       "       'Product line', 'Unit price', 'Quantity', 'Tax 5%', 'Total', 'Date',\n",
       "       'Time', 'Payment', 'cogs', 'gross margin percentage', 'gross income',\n",
       "       'Rating'],\n",
       "      dtype='object')"
      ]
     },
     "execution_count": 5,
     "metadata": {},
     "output_type": "execute_result"
    }
   ],
   "source": [
    "raw.columns"
   ]
  },
  {
   "cell_type": "code",
   "execution_count": 6,
   "id": "b2bd7dae",
   "metadata": {},
   "outputs": [],
   "source": [
    "raw.columns = ['Pc_ID', 'Branch', 'City', 'Customer_type', 'Gender',\n",
    "       'Product_line', 'Unit_price', 'Quantity', 'Tax', 'Total', 'Date',\n",
    "       'Time', 'Payment', 'cogs', 'gross_margin_perc', 'gross_income',\n",
    "       'Rating']"
   ]
  },
  {
   "cell_type": "markdown",
   "id": "e0c7b2f5",
   "metadata": {},
   "source": [
    "## Check data"
   ]
  },
  {
   "cell_type": "code",
   "execution_count": 18,
   "id": "46135cd1",
   "metadata": {
    "collapsed": true
   },
   "outputs": [
    {
     "name": "stdout",
     "output_type": "stream",
     "text": [
      "750-67-8428    1\n",
      "642-61-4706    1\n",
      "816-72-8853    1\n",
      "491-38-3499    1\n",
      "322-02-2271    1\n",
      "              ..\n",
      "633-09-3463    1\n",
      "374-17-3652    1\n",
      "378-07-7001    1\n",
      "433-75-6987    1\n",
      "849-09-3807    1\n",
      "Name: Pc_ID, Length: 1000, dtype: int64\n",
      "---\n",
      "A    340\n",
      "B    332\n",
      "C    328\n",
      "Name: Branch, dtype: int64\n",
      "---\n",
      "Yangon       340\n",
      "Mandalay     332\n",
      "Naypyitaw    328\n",
      "Name: City, dtype: int64\n",
      "---\n",
      "Member    501\n",
      "Normal    499\n",
      "Name: Customer_type, dtype: int64\n",
      "---\n",
      "Female    501\n",
      "Male      499\n",
      "Name: Gender, dtype: int64\n",
      "---\n",
      "Fashion accessories       178\n",
      "Food and beverages        174\n",
      "Electronic accessories    170\n",
      "Sports and travel         166\n",
      "Home and lifestyle        160\n",
      "Health and beauty         152\n",
      "Name: Product_line, dtype: int64\n",
      "---\n",
      "83.77    3\n",
      "39.62    2\n",
      "24.74    2\n",
      "19.15    2\n",
      "73.47    2\n",
      "        ..\n",
      "57.95    1\n",
      "47.65    1\n",
      "42.82    1\n",
      "48.09    1\n",
      "88.34    1\n",
      "Name: Unit_price, Length: 943, dtype: int64\n",
      "---\n",
      "10    119\n",
      "1     112\n",
      "4     109\n",
      "7     102\n",
      "5     102\n",
      "6      98\n",
      "9      92\n",
      "2      91\n",
      "3      90\n",
      "8      85\n",
      "Name: Quantity, dtype: int64\n",
      "---\n",
      "10.3260    2\n",
      "4.4640     2\n",
      "4.1540     2\n",
      "9.0045     2\n",
      "22.4280    2\n",
      "          ..\n",
      "7.2135     1\n",
      "19.5895    1\n",
      "26.9150    1\n",
      "24.2575    1\n",
      "30.9190    1\n",
      "Name: Tax, Length: 990, dtype: int64\n",
      "---\n",
      "216.8460    2\n",
      "93.7440     2\n",
      "87.2340     2\n",
      "189.0945    2\n",
      "470.9880    2\n",
      "           ..\n",
      "151.4835    1\n",
      "411.3795    1\n",
      "565.2150    1\n",
      "509.4075    1\n",
      "649.2990    1\n",
      "Name: Total, Length: 990, dtype: int64\n",
      "---\n",
      "2/7/2019     20\n",
      "2/15/2019    19\n",
      "3/14/2019    18\n",
      "3/2/2019     18\n",
      "1/8/2019     18\n",
      "             ..\n",
      "1/4/2019      6\n",
      "2/28/2019     6\n",
      "2/21/2019     6\n",
      "3/17/2019     6\n",
      "2/1/2019      6\n",
      "Name: Date, Length: 89, dtype: int64\n",
      "---\n",
      "19:48    7\n",
      "14:42    7\n",
      "17:38    6\n",
      "17:16    5\n",
      "11:40    5\n",
      "        ..\n",
      "13:26    1\n",
      "11:17    1\n",
      "14:57    1\n",
      "17:53    1\n",
      "19:12    1\n",
      "Name: Time, Length: 506, dtype: int64\n",
      "---\n",
      "Ewallet        345\n",
      "Cash           344\n",
      "Credit card    311\n",
      "Name: Payment, dtype: int64\n",
      "---\n",
      "206.52    2\n",
      "89.28     2\n",
      "83.08     2\n",
      "180.09    2\n",
      "448.56    2\n",
      "         ..\n",
      "144.27    1\n",
      "391.79    1\n",
      "538.30    1\n",
      "485.15    1\n",
      "618.38    1\n",
      "Name: cogs, Length: 990, dtype: int64\n",
      "---\n",
      "4.761905    1000\n",
      "Name: gross_margin_perc, dtype: int64\n",
      "---\n",
      "10.3260    2\n",
      "4.4640     2\n",
      "4.1540     2\n",
      "9.0045     2\n",
      "22.4280    2\n",
      "          ..\n",
      "7.2135     1\n",
      "19.5895    1\n",
      "26.9150    1\n",
      "24.2575    1\n",
      "30.9190    1\n",
      "Name: gross_income, Length: 990, dtype: int64\n",
      "---\n",
      "6.0     26\n",
      "6.6     24\n",
      "4.2     22\n",
      "9.5     22\n",
      "6.5     21\n",
      "        ..\n",
      "4.0     11\n",
      "5.3     11\n",
      "8.3     11\n",
      "4.6      8\n",
      "10.0     5\n",
      "Name: Rating, Length: 61, dtype: int64\n",
      "---\n"
     ]
    }
   ],
   "source": [
    "for i in raw.columns:\n",
    "    print(raw[f'{i}'].value_counts())\n",
    "    print('---')"
   ]
  },
  {
   "cell_type": "code",
   "execution_count": 10,
   "id": "75903c4e",
   "metadata": {
    "scrolled": true
   },
   "outputs": [
    {
     "data": {
      "text/plain": [
       "1000"
      ]
     },
     "execution_count": 10,
     "metadata": {},
     "output_type": "execute_result"
    }
   ],
   "source": [
    "len(raw.Pc_ID.unique())"
   ]
  },
  {
   "cell_type": "markdown",
   "id": "eb37f563",
   "metadata": {},
   "source": [
    "Pc_ID è sempre riverso per questo motivo non ha nessuna importanza. Si può eliminare"
   ]
  },
  {
   "cell_type": "code",
   "execution_count": 19,
   "id": "898b9f6c",
   "metadata": {
    "scrolled": false
   },
   "outputs": [
    {
     "data": {
      "text/plain": [
       "A    340\n",
       "B    332\n",
       "C    328\n",
       "Name: Branch, dtype: int64"
      ]
     },
     "execution_count": 19,
     "metadata": {},
     "output_type": "execute_result"
    }
   ],
   "source": [
    "raw['Branch'].value_counts()"
   ]
  },
  {
   "cell_type": "code",
   "execution_count": 14,
   "id": "85272172",
   "metadata": {
    "scrolled": true
   },
   "outputs": [
    {
     "data": {
      "text/plain": [
       "Yangon       340\n",
       "Mandalay     332\n",
       "Naypyitaw    328\n",
       "Name: City, dtype: int64"
      ]
     },
     "execution_count": 14,
     "metadata": {},
     "output_type": "execute_result"
    }
   ],
   "source": [
    "raw['City'].value_counts()"
   ]
  },
  {
   "cell_type": "code",
   "execution_count": 16,
   "id": "d0a48683",
   "metadata": {
    "scrolled": true
   },
   "outputs": [
    {
     "data": {
      "text/plain": [
       "Member    501\n",
       "Normal    499\n",
       "Name: Customer_type, dtype: int64"
      ]
     },
     "execution_count": 16,
     "metadata": {},
     "output_type": "execute_result"
    }
   ],
   "source": [
    "raw['Customer_type'].value_counts()"
   ]
  },
  {
   "cell_type": "code",
   "execution_count": 20,
   "id": "b701374c",
   "metadata": {
    "scrolled": true
   },
   "outputs": [
    {
     "data": {
      "text/plain": [
       "Female    501\n",
       "Male      499\n",
       "Name: Gender, dtype: int64"
      ]
     },
     "execution_count": 20,
     "metadata": {},
     "output_type": "execute_result"
    }
   ],
   "source": [
    "raw['Gender'].value_counts()"
   ]
  },
  {
   "cell_type": "code",
   "execution_count": 24,
   "id": "7c7e4196",
   "metadata": {},
   "outputs": [
    {
     "data": {
      "text/plain": [
       "Fashion accessories       178\n",
       "Food and beverages        174\n",
       "Electronic accessories    170\n",
       "Sports and travel         166\n",
       "Home and lifestyle        160\n",
       "Health and beauty         152\n",
       "Name: Product_line, dtype: int64"
      ]
     },
     "execution_count": 24,
     "metadata": {},
     "output_type": "execute_result"
    }
   ],
   "source": [
    "raw['Product_line'].value_counts()"
   ]
  },
  {
   "cell_type": "code",
   "execution_count": 21,
   "id": "e9a9a480",
   "metadata": {},
   "outputs": [
    {
     "data": {
      "text/plain": [
       "Ewallet        345\n",
       "Cash           344\n",
       "Credit card    311\n",
       "Name: Payment, dtype: int64"
      ]
     },
     "execution_count": 21,
     "metadata": {},
     "output_type": "execute_result"
    }
   ],
   "source": [
    "raw['Payment'].value_counts()"
   ]
  },
  {
   "cell_type": "code",
   "execution_count": 23,
   "id": "d1e4f468",
   "metadata": {
    "scrolled": true
   },
   "outputs": [
    {
     "data": {
      "text/html": [
       "<div>\n",
       "<style scoped>\n",
       "    .dataframe tbody tr th:only-of-type {\n",
       "        vertical-align: middle;\n",
       "    }\n",
       "\n",
       "    .dataframe tbody tr th {\n",
       "        vertical-align: top;\n",
       "    }\n",
       "\n",
       "    .dataframe thead th {\n",
       "        text-align: right;\n",
       "    }\n",
       "</style>\n",
       "<table border=\"1\" class=\"dataframe\">\n",
       "  <thead>\n",
       "    <tr style=\"text-align: right;\">\n",
       "      <th></th>\n",
       "      <th>Unit_price</th>\n",
       "      <th>Quantity</th>\n",
       "      <th>Tax</th>\n",
       "      <th>Total</th>\n",
       "      <th>cogs</th>\n",
       "      <th>gross_margin_perc</th>\n",
       "      <th>gross_income</th>\n",
       "      <th>Rating</th>\n",
       "    </tr>\n",
       "  </thead>\n",
       "  <tbody>\n",
       "    <tr>\n",
       "      <th>count</th>\n",
       "      <td>1000.000000</td>\n",
       "      <td>1000.000000</td>\n",
       "      <td>1000.000000</td>\n",
       "      <td>1000.000000</td>\n",
       "      <td>1000.00000</td>\n",
       "      <td>1000.000000</td>\n",
       "      <td>1000.000000</td>\n",
       "      <td>1000.00000</td>\n",
       "    </tr>\n",
       "    <tr>\n",
       "      <th>mean</th>\n",
       "      <td>55.672130</td>\n",
       "      <td>5.510000</td>\n",
       "      <td>15.379369</td>\n",
       "      <td>322.966749</td>\n",
       "      <td>307.58738</td>\n",
       "      <td>4.761905</td>\n",
       "      <td>15.379369</td>\n",
       "      <td>6.97270</td>\n",
       "    </tr>\n",
       "    <tr>\n",
       "      <th>std</th>\n",
       "      <td>26.494628</td>\n",
       "      <td>2.923431</td>\n",
       "      <td>11.708825</td>\n",
       "      <td>245.885335</td>\n",
       "      <td>234.17651</td>\n",
       "      <td>0.000000</td>\n",
       "      <td>11.708825</td>\n",
       "      <td>1.71858</td>\n",
       "    </tr>\n",
       "    <tr>\n",
       "      <th>min</th>\n",
       "      <td>10.080000</td>\n",
       "      <td>1.000000</td>\n",
       "      <td>0.508500</td>\n",
       "      <td>10.678500</td>\n",
       "      <td>10.17000</td>\n",
       "      <td>4.761905</td>\n",
       "      <td>0.508500</td>\n",
       "      <td>4.00000</td>\n",
       "    </tr>\n",
       "    <tr>\n",
       "      <th>25%</th>\n",
       "      <td>32.875000</td>\n",
       "      <td>3.000000</td>\n",
       "      <td>5.924875</td>\n",
       "      <td>124.422375</td>\n",
       "      <td>118.49750</td>\n",
       "      <td>4.761905</td>\n",
       "      <td>5.924875</td>\n",
       "      <td>5.50000</td>\n",
       "    </tr>\n",
       "    <tr>\n",
       "      <th>50%</th>\n",
       "      <td>55.230000</td>\n",
       "      <td>5.000000</td>\n",
       "      <td>12.088000</td>\n",
       "      <td>253.848000</td>\n",
       "      <td>241.76000</td>\n",
       "      <td>4.761905</td>\n",
       "      <td>12.088000</td>\n",
       "      <td>7.00000</td>\n",
       "    </tr>\n",
       "    <tr>\n",
       "      <th>75%</th>\n",
       "      <td>77.935000</td>\n",
       "      <td>8.000000</td>\n",
       "      <td>22.445250</td>\n",
       "      <td>471.350250</td>\n",
       "      <td>448.90500</td>\n",
       "      <td>4.761905</td>\n",
       "      <td>22.445250</td>\n",
       "      <td>8.50000</td>\n",
       "    </tr>\n",
       "    <tr>\n",
       "      <th>max</th>\n",
       "      <td>99.960000</td>\n",
       "      <td>10.000000</td>\n",
       "      <td>49.650000</td>\n",
       "      <td>1042.650000</td>\n",
       "      <td>993.00000</td>\n",
       "      <td>4.761905</td>\n",
       "      <td>49.650000</td>\n",
       "      <td>10.00000</td>\n",
       "    </tr>\n",
       "  </tbody>\n",
       "</table>\n",
       "</div>"
      ],
      "text/plain": [
       "        Unit_price     Quantity          Tax        Total        cogs  \\\n",
       "count  1000.000000  1000.000000  1000.000000  1000.000000  1000.00000   \n",
       "mean     55.672130     5.510000    15.379369   322.966749   307.58738   \n",
       "std      26.494628     2.923431    11.708825   245.885335   234.17651   \n",
       "min      10.080000     1.000000     0.508500    10.678500    10.17000   \n",
       "25%      32.875000     3.000000     5.924875   124.422375   118.49750   \n",
       "50%      55.230000     5.000000    12.088000   253.848000   241.76000   \n",
       "75%      77.935000     8.000000    22.445250   471.350250   448.90500   \n",
       "max      99.960000    10.000000    49.650000  1042.650000   993.00000   \n",
       "\n",
       "       gross_margin_perc  gross_income      Rating  \n",
       "count        1000.000000   1000.000000  1000.00000  \n",
       "mean            4.761905     15.379369     6.97270  \n",
       "std             0.000000     11.708825     1.71858  \n",
       "min             4.761905      0.508500     4.00000  \n",
       "25%             4.761905      5.924875     5.50000  \n",
       "50%             4.761905     12.088000     7.00000  \n",
       "75%             4.761905     22.445250     8.50000  \n",
       "max             4.761905     49.650000    10.00000  "
      ]
     },
     "execution_count": 23,
     "metadata": {},
     "output_type": "execute_result"
    }
   ],
   "source": [
    "raw.describe()"
   ]
  },
  {
   "cell_type": "code",
   "execution_count": 69,
   "id": "1c2c7e49",
   "metadata": {
    "scrolled": true
   },
   "outputs": [
    {
     "data": {
      "text/plain": [
       "True    1000\n",
       "dtype: int64"
      ]
     },
     "execution_count": 69,
     "metadata": {},
     "output_type": "execute_result"
    }
   ],
   "source": [
    "(raw['Tax']==raw['gross_income']).value_counts()"
   ]
  },
  {
   "cell_type": "code",
   "execution_count": 70,
   "id": "cacc8da4",
   "metadata": {
    "scrolled": true
   },
   "outputs": [
    {
     "data": {
      "text/plain": [
       "array([ True])"
      ]
     },
     "execution_count": 70,
     "metadata": {},
     "output_type": "execute_result"
    }
   ],
   "source": [
    "(raw['Tax']==raw['gross_income']).unique()"
   ]
  },
  {
   "cell_type": "code",
   "execution_count": 71,
   "id": "298b1ac8",
   "metadata": {},
   "outputs": [
    {
     "data": {
      "text/html": [
       "<div>\n",
       "<style scoped>\n",
       "    .dataframe tbody tr th:only-of-type {\n",
       "        vertical-align: middle;\n",
       "    }\n",
       "\n",
       "    .dataframe tbody tr th {\n",
       "        vertical-align: top;\n",
       "    }\n",
       "\n",
       "    .dataframe thead th {\n",
       "        text-align: right;\n",
       "    }\n",
       "</style>\n",
       "<table border=\"1\" class=\"dataframe\">\n",
       "  <thead>\n",
       "    <tr style=\"text-align: right;\">\n",
       "      <th></th>\n",
       "      <th>Unit_price</th>\n",
       "      <th>Quantity</th>\n",
       "      <th>Tax</th>\n",
       "      <th>Total</th>\n",
       "      <th>cogs</th>\n",
       "      <th>gross_margin_perc</th>\n",
       "      <th>gross_income</th>\n",
       "      <th>Rating</th>\n",
       "    </tr>\n",
       "  </thead>\n",
       "  <tbody>\n",
       "    <tr>\n",
       "      <th>Unit_price</th>\n",
       "      <td>1.000000</td>\n",
       "      <td>0.010778</td>\n",
       "      <td>0.633962</td>\n",
       "      <td>0.633962</td>\n",
       "      <td>0.633962</td>\n",
       "      <td>NaN</td>\n",
       "      <td>0.633962</td>\n",
       "      <td>-0.008778</td>\n",
       "    </tr>\n",
       "    <tr>\n",
       "      <th>Quantity</th>\n",
       "      <td>0.010778</td>\n",
       "      <td>1.000000</td>\n",
       "      <td>0.705510</td>\n",
       "      <td>0.705510</td>\n",
       "      <td>0.705510</td>\n",
       "      <td>NaN</td>\n",
       "      <td>0.705510</td>\n",
       "      <td>-0.015815</td>\n",
       "    </tr>\n",
       "    <tr>\n",
       "      <th>Tax</th>\n",
       "      <td>0.633962</td>\n",
       "      <td>0.705510</td>\n",
       "      <td>1.000000</td>\n",
       "      <td>1.000000</td>\n",
       "      <td>1.000000</td>\n",
       "      <td>NaN</td>\n",
       "      <td>1.000000</td>\n",
       "      <td>-0.036442</td>\n",
       "    </tr>\n",
       "    <tr>\n",
       "      <th>Total</th>\n",
       "      <td>0.633962</td>\n",
       "      <td>0.705510</td>\n",
       "      <td>1.000000</td>\n",
       "      <td>1.000000</td>\n",
       "      <td>1.000000</td>\n",
       "      <td>NaN</td>\n",
       "      <td>1.000000</td>\n",
       "      <td>-0.036442</td>\n",
       "    </tr>\n",
       "    <tr>\n",
       "      <th>cogs</th>\n",
       "      <td>0.633962</td>\n",
       "      <td>0.705510</td>\n",
       "      <td>1.000000</td>\n",
       "      <td>1.000000</td>\n",
       "      <td>1.000000</td>\n",
       "      <td>NaN</td>\n",
       "      <td>1.000000</td>\n",
       "      <td>-0.036442</td>\n",
       "    </tr>\n",
       "    <tr>\n",
       "      <th>gross_margin_perc</th>\n",
       "      <td>NaN</td>\n",
       "      <td>NaN</td>\n",
       "      <td>NaN</td>\n",
       "      <td>NaN</td>\n",
       "      <td>NaN</td>\n",
       "      <td>NaN</td>\n",
       "      <td>NaN</td>\n",
       "      <td>NaN</td>\n",
       "    </tr>\n",
       "    <tr>\n",
       "      <th>gross_income</th>\n",
       "      <td>0.633962</td>\n",
       "      <td>0.705510</td>\n",
       "      <td>1.000000</td>\n",
       "      <td>1.000000</td>\n",
       "      <td>1.000000</td>\n",
       "      <td>NaN</td>\n",
       "      <td>1.000000</td>\n",
       "      <td>-0.036442</td>\n",
       "    </tr>\n",
       "    <tr>\n",
       "      <th>Rating</th>\n",
       "      <td>-0.008778</td>\n",
       "      <td>-0.015815</td>\n",
       "      <td>-0.036442</td>\n",
       "      <td>-0.036442</td>\n",
       "      <td>-0.036442</td>\n",
       "      <td>NaN</td>\n",
       "      <td>-0.036442</td>\n",
       "      <td>1.000000</td>\n",
       "    </tr>\n",
       "  </tbody>\n",
       "</table>\n",
       "</div>"
      ],
      "text/plain": [
       "                   Unit_price  Quantity       Tax     Total      cogs  \\\n",
       "Unit_price           1.000000  0.010778  0.633962  0.633962  0.633962   \n",
       "Quantity             0.010778  1.000000  0.705510  0.705510  0.705510   \n",
       "Tax                  0.633962  0.705510  1.000000  1.000000  1.000000   \n",
       "Total                0.633962  0.705510  1.000000  1.000000  1.000000   \n",
       "cogs                 0.633962  0.705510  1.000000  1.000000  1.000000   \n",
       "gross_margin_perc         NaN       NaN       NaN       NaN       NaN   \n",
       "gross_income         0.633962  0.705510  1.000000  1.000000  1.000000   \n",
       "Rating              -0.008778 -0.015815 -0.036442 -0.036442 -0.036442   \n",
       "\n",
       "                   gross_margin_perc  gross_income    Rating  \n",
       "Unit_price                       NaN      0.633962 -0.008778  \n",
       "Quantity                         NaN      0.705510 -0.015815  \n",
       "Tax                              NaN      1.000000 -0.036442  \n",
       "Total                            NaN      1.000000 -0.036442  \n",
       "cogs                             NaN      1.000000 -0.036442  \n",
       "gross_margin_perc                NaN           NaN       NaN  \n",
       "gross_income                     NaN      1.000000 -0.036442  \n",
       "Rating                           NaN     -0.036442  1.000000  "
      ]
     },
     "execution_count": 71,
     "metadata": {},
     "output_type": "execute_result"
    }
   ],
   "source": [
    "raw.corr()"
   ]
  },
  {
   "cell_type": "markdown",
   "id": "44d61343",
   "metadata": {},
   "source": [
    "## Considerazioni...\n",
    "La colonna `gross_margin_perc` non ha senso di essere considerata visto che non varia mai\n",
    "\n",
    "La colonna `Tax` è direttamente correlata al `Unit_price`, `Quantity`, `Total`, `gross_income`\n",
    "\n",
    "La colonna `Tax` è esattamente uguale alla colonna `gross_income` per questo non verrà considerata."
   ]
  },
  {
   "cell_type": "markdown",
   "id": "92c76f6e",
   "metadata": {},
   "source": [
    "# Lavorare con le time series"
   ]
  },
  {
   "cell_type": "code",
   "execution_count": null,
   "id": "6f28a6c3",
   "metadata": {},
   "outputs": [],
   "source": [
    "# ..."
   ]
  },
  {
   "cell_type": "markdown",
   "id": "6871e67d",
   "metadata": {},
   "source": [
    "# Prime associazioni\n",
    "## by Gender"
   ]
  },
  {
   "cell_type": "code",
   "execution_count": 50,
   "id": "67e99796",
   "metadata": {
    "scrolled": true
   },
   "outputs": [
    {
     "data": {
      "text/html": [
       "<div>\n",
       "<style scoped>\n",
       "    .dataframe tbody tr th:only-of-type {\n",
       "        vertical-align: middle;\n",
       "    }\n",
       "\n",
       "    .dataframe tbody tr th {\n",
       "        vertical-align: top;\n",
       "    }\n",
       "\n",
       "    .dataframe thead th {\n",
       "        text-align: right;\n",
       "    }\n",
       "</style>\n",
       "<table border=\"1\" class=\"dataframe\">\n",
       "  <thead>\n",
       "    <tr style=\"text-align: right;\">\n",
       "      <th>Gender</th>\n",
       "      <th>Female</th>\n",
       "      <th>Male</th>\n",
       "    </tr>\n",
       "    <tr>\n",
       "      <th>Customer_type</th>\n",
       "      <th></th>\n",
       "      <th></th>\n",
       "    </tr>\n",
       "  </thead>\n",
       "  <tbody>\n",
       "    <tr>\n",
       "      <th>Member</th>\n",
       "      <td>261</td>\n",
       "      <td>240</td>\n",
       "    </tr>\n",
       "    <tr>\n",
       "      <th>Normal</th>\n",
       "      <td>240</td>\n",
       "      <td>259</td>\n",
       "    </tr>\n",
       "  </tbody>\n",
       "</table>\n",
       "</div>"
      ],
      "text/plain": [
       "Gender         Female  Male\n",
       "Customer_type              \n",
       "Member            261   240\n",
       "Normal            240   259"
      ]
     },
     "execution_count": 50,
     "metadata": {},
     "output_type": "execute_result"
    }
   ],
   "source": [
    "raw.groupby('Customer_type')['Gender'].value_counts().unstack()"
   ]
  },
  {
   "cell_type": "code",
   "execution_count": 51,
   "id": "32de34cb",
   "metadata": {},
   "outputs": [
    {
     "data": {
      "text/plain": [
       "<seaborn.axisgrid.FacetGrid at 0x22670a96b50>"
      ]
     },
     "execution_count": 51,
     "metadata": {},
     "output_type": "execute_result"
    },
    {
     "data": {
      "image/png": "[encoded data removed]",
      "text/plain": [
       "<Figure size 436.35x360 with 1 Axes>"
      ]
     },
     "metadata": {},
     "output_type": "display_data"
    }
   ],
   "source": [
    "sns.catplot(x='Customer_type', hue='Gender',\n",
    "            kind='count', data=raw)"
   ]
  },
  {
   "cell_type": "code",
   "execution_count": 53,
   "id": "f173868f",
   "metadata": {
    "scrolled": true
   },
   "outputs": [
    {
     "data": {
      "text/html": [
       "<div>\n",
       "<style scoped>\n",
       "    .dataframe tbody tr th:only-of-type {\n",
       "        vertical-align: middle;\n",
       "    }\n",
       "\n",
       "    .dataframe tbody tr th {\n",
       "        vertical-align: top;\n",
       "    }\n",
       "\n",
       "    .dataframe thead th {\n",
       "        text-align: right;\n",
       "    }\n",
       "</style>\n",
       "<table border=\"1\" class=\"dataframe\">\n",
       "  <thead>\n",
       "    <tr style=\"text-align: right;\">\n",
       "      <th>Gender</th>\n",
       "      <th>Female</th>\n",
       "      <th>Male</th>\n",
       "    </tr>\n",
       "    <tr>\n",
       "      <th>Branch</th>\n",
       "      <th></th>\n",
       "      <th></th>\n",
       "    </tr>\n",
       "  </thead>\n",
       "  <tbody>\n",
       "    <tr>\n",
       "      <th>A</th>\n",
       "      <td>161</td>\n",
       "      <td>179</td>\n",
       "    </tr>\n",
       "    <tr>\n",
       "      <th>B</th>\n",
       "      <td>162</td>\n",
       "      <td>170</td>\n",
       "    </tr>\n",
       "    <tr>\n",
       "      <th>C</th>\n",
       "      <td>178</td>\n",
       "      <td>150</td>\n",
       "    </tr>\n",
       "  </tbody>\n",
       "</table>\n",
       "</div>"
      ],
      "text/plain": [
       "Gender  Female  Male\n",
       "Branch              \n",
       "A          161   179\n",
       "B          162   170\n",
       "C          178   150"
      ]
     },
     "execution_count": 53,
     "metadata": {},
     "output_type": "execute_result"
    }
   ],
   "source": [
    "raw.groupby('Branch')['Gender'].value_counts().unstack()"
   ]
  },
  {
   "cell_type": "code",
   "execution_count": 52,
   "id": "93df53dc",
   "metadata": {},
   "outputs": [
    {
     "data": {
      "text/plain": [
       "<seaborn.axisgrid.FacetGrid at 0x22670aad820>"
      ]
     },
     "execution_count": 52,
     "metadata": {},
     "output_type": "execute_result"
    },
    {
     "data": {
      "image/png": "[encoded data removed]",
      "text/plain": [
       "<Figure size 436.35x360 with 1 Axes>"
      ]
     },
     "metadata": {},
     "output_type": "display_data"
    }
   ],
   "source": [
    "sns.catplot(x='Branch', hue='Gender',\n",
    "            kind='count', data=raw)"
   ]
  },
  {
   "cell_type": "code",
   "execution_count": 56,
   "id": "0ea2089f",
   "metadata": {
    "scrolled": true
   },
   "outputs": [
    {
     "data": {
      "text/html": [
       "<div>\n",
       "<style scoped>\n",
       "    .dataframe tbody tr th:only-of-type {\n",
       "        vertical-align: middle;\n",
       "    }\n",
       "\n",
       "    .dataframe tbody tr th {\n",
       "        vertical-align: top;\n",
       "    }\n",
       "\n",
       "    .dataframe thead th {\n",
       "        text-align: right;\n",
       "    }\n",
       "</style>\n",
       "<table border=\"1\" class=\"dataframe\">\n",
       "  <thead>\n",
       "    <tr style=\"text-align: right;\">\n",
       "      <th>Gender</th>\n",
       "      <th>Female</th>\n",
       "      <th>Male</th>\n",
       "    </tr>\n",
       "    <tr>\n",
       "      <th>City</th>\n",
       "      <th></th>\n",
       "      <th></th>\n",
       "    </tr>\n",
       "  </thead>\n",
       "  <tbody>\n",
       "    <tr>\n",
       "      <th>Mandalay</th>\n",
       "      <td>162</td>\n",
       "      <td>170</td>\n",
       "    </tr>\n",
       "    <tr>\n",
       "      <th>Naypyitaw</th>\n",
       "      <td>178</td>\n",
       "      <td>150</td>\n",
       "    </tr>\n",
       "    <tr>\n",
       "      <th>Yangon</th>\n",
       "      <td>161</td>\n",
       "      <td>179</td>\n",
       "    </tr>\n",
       "  </tbody>\n",
       "</table>\n",
       "</div>"
      ],
      "text/plain": [
       "Gender     Female  Male\n",
       "City                   \n",
       "Mandalay      162   170\n",
       "Naypyitaw     178   150\n",
       "Yangon        161   179"
      ]
     },
     "execution_count": 56,
     "metadata": {},
     "output_type": "execute_result"
    }
   ],
   "source": [
    "raw.groupby('City')['Gender'].value_counts().unstack()"
   ]
  },
  {
   "cell_type": "code",
   "execution_count": 57,
   "id": "2d70c13c",
   "metadata": {},
   "outputs": [
    {
     "data": {
      "text/plain": [
       "<seaborn.axisgrid.FacetGrid at 0x226708bfe20>"
      ]
     },
     "execution_count": 57,
     "metadata": {},
     "output_type": "execute_result"
    },
    {
     "data": {
      "image/png": "[encoded data removed]",
      "text/plain": [
       "<Figure size 436.35x360 with 1 Axes>"
      ]
     },
     "metadata": {},
     "output_type": "display_data"
    }
   ],
   "source": [
    "sns.catplot(x='City', hue='Gender',\n",
    "            kind='count', data=raw)"
   ]
  },
  {
   "cell_type": "code",
   "execution_count": 35,
   "id": "c82f4f65",
   "metadata": {
    "scrolled": false
   },
   "outputs": [
    {
     "data": {
      "text/html": [
       "<div>\n",
       "<style scoped>\n",
       "    .dataframe tbody tr th:only-of-type {\n",
       "        vertical-align: middle;\n",
       "    }\n",
       "\n",
       "    .dataframe tbody tr th {\n",
       "        vertical-align: top;\n",
       "    }\n",
       "\n",
       "    .dataframe thead th {\n",
       "        text-align: right;\n",
       "    }\n",
       "</style>\n",
       "<table border=\"1\" class=\"dataframe\">\n",
       "  <thead>\n",
       "    <tr style=\"text-align: right;\">\n",
       "      <th>Gender</th>\n",
       "      <th>Female</th>\n",
       "      <th>Male</th>\n",
       "    </tr>\n",
       "    <tr>\n",
       "      <th>Product_line</th>\n",
       "      <th></th>\n",
       "      <th></th>\n",
       "    </tr>\n",
       "  </thead>\n",
       "  <tbody>\n",
       "    <tr>\n",
       "      <th>Electronic accessories</th>\n",
       "      <td>84</td>\n",
       "      <td>86</td>\n",
       "    </tr>\n",
       "    <tr>\n",
       "      <th>Fashion accessories</th>\n",
       "      <td>96</td>\n",
       "      <td>82</td>\n",
       "    </tr>\n",
       "    <tr>\n",
       "      <th>Food and beverages</th>\n",
       "      <td>90</td>\n",
       "      <td>84</td>\n",
       "    </tr>\n",
       "    <tr>\n",
       "      <th>Health and beauty</th>\n",
       "      <td>64</td>\n",
       "      <td>88</td>\n",
       "    </tr>\n",
       "    <tr>\n",
       "      <th>Home and lifestyle</th>\n",
       "      <td>79</td>\n",
       "      <td>81</td>\n",
       "    </tr>\n",
       "    <tr>\n",
       "      <th>Sports and travel</th>\n",
       "      <td>88</td>\n",
       "      <td>78</td>\n",
       "    </tr>\n",
       "  </tbody>\n",
       "</table>\n",
       "</div>"
      ],
      "text/plain": [
       "Gender                  Female  Male\n",
       "Product_line                        \n",
       "Electronic accessories      84    86\n",
       "Fashion accessories         96    82\n",
       "Food and beverages          90    84\n",
       "Health and beauty           64    88\n",
       "Home and lifestyle          79    81\n",
       "Sports and travel           88    78"
      ]
     },
     "execution_count": 35,
     "metadata": {},
     "output_type": "execute_result"
    }
   ],
   "source": [
    "raw.groupby('Product_line')['Gender'].value_counts().unstack()"
   ]
  },
  {
   "cell_type": "code",
   "execution_count": 59,
   "id": "7855da9b",
   "metadata": {},
   "outputs": [
    {
     "data": {
      "text/plain": [
       "(array([0, 1, 2, 3, 4, 5]),\n",
       " [Text(0, 0, 'Health and beauty'),\n",
       "  Text(1, 0, 'Electronic accessories'),\n",
       "  Text(2, 0, 'Home and lifestyle'),\n",
       "  Text(3, 0, 'Sports and travel'),\n",
       "  Text(4, 0, 'Food and beverages'),\n",
       "  Text(5, 0, 'Fashion accessories')])"
      ]
     },
     "execution_count": 59,
     "metadata": {},
     "output_type": "execute_result"
    },
    {
     "data": {
      "image/png": "[encoded data removed]",
      "text/plain": [
       "<Figure size 436.35x360 with 1 Axes>"
      ]
     },
     "metadata": {},
     "output_type": "display_data"
    }
   ],
   "source": [
    "sns.catplot(x='Product_line', hue='Gender',\n",
    "            kind='count', data=raw)\n",
    "plt.xticks(rotation=90, fontsize = 10)"
   ]
  },
  {
   "cell_type": "code",
   "execution_count": 36,
   "id": "e3feb40c",
   "metadata": {
    "scrolled": false
   },
   "outputs": [
    {
     "data": {
      "text/html": [
       "<div>\n",
       "<style scoped>\n",
       "    .dataframe tbody tr th:only-of-type {\n",
       "        vertical-align: middle;\n",
       "    }\n",
       "\n",
       "    .dataframe tbody tr th {\n",
       "        vertical-align: top;\n",
       "    }\n",
       "\n",
       "    .dataframe thead th {\n",
       "        text-align: right;\n",
       "    }\n",
       "</style>\n",
       "<table border=\"1\" class=\"dataframe\">\n",
       "  <thead>\n",
       "    <tr style=\"text-align: right;\">\n",
       "      <th>Gender</th>\n",
       "      <th>Female</th>\n",
       "      <th>Male</th>\n",
       "    </tr>\n",
       "    <tr>\n",
       "      <th>Payment</th>\n",
       "      <th></th>\n",
       "      <th></th>\n",
       "    </tr>\n",
       "  </thead>\n",
       "  <tbody>\n",
       "    <tr>\n",
       "      <th>Cash</th>\n",
       "      <td>178</td>\n",
       "      <td>166</td>\n",
       "    </tr>\n",
       "    <tr>\n",
       "      <th>Credit card</th>\n",
       "      <td>163</td>\n",
       "      <td>148</td>\n",
       "    </tr>\n",
       "    <tr>\n",
       "      <th>Ewallet</th>\n",
       "      <td>160</td>\n",
       "      <td>185</td>\n",
       "    </tr>\n",
       "  </tbody>\n",
       "</table>\n",
       "</div>"
      ],
      "text/plain": [
       "Gender       Female  Male\n",
       "Payment                  \n",
       "Cash            178   166\n",
       "Credit card     163   148\n",
       "Ewallet         160   185"
      ]
     },
     "execution_count": 36,
     "metadata": {},
     "output_type": "execute_result"
    }
   ],
   "source": [
    "raw.groupby('Payment')['Gender'].value_counts().unstack()"
   ]
  },
  {
   "cell_type": "code",
   "execution_count": 60,
   "id": "48625dbe",
   "metadata": {},
   "outputs": [
    {
     "data": {
      "text/plain": [
       "<seaborn.axisgrid.FacetGrid at 0x22671c3b730>"
      ]
     },
     "execution_count": 60,
     "metadata": {},
     "output_type": "execute_result"
    },
    {
     "data": {
      "image/png": "[encoded data removed]",
      "text/plain": [
       "<Figure size 436.35x360 with 1 Axes>"
      ]
     },
     "metadata": {},
     "output_type": "display_data"
    }
   ],
   "source": [
    "sns.catplot(x='Payment', hue='Gender',\n",
    "            kind='count', data=raw)"
   ]
  },
  {
   "cell_type": "code",
   "execution_count": 48,
   "id": "d0d94d6b",
   "metadata": {
    "scrolled": true
   },
   "outputs": [
    {
     "data": {
      "text/html": [
       "<div>\n",
       "<style scoped>\n",
       "    .dataframe tbody tr th:only-of-type {\n",
       "        vertical-align: middle;\n",
       "    }\n",
       "\n",
       "    .dataframe tbody tr th {\n",
       "        vertical-align: top;\n",
       "    }\n",
       "\n",
       "    .dataframe thead th {\n",
       "        text-align: right;\n",
       "    }\n",
       "</style>\n",
       "<table border=\"1\" class=\"dataframe\">\n",
       "  <thead>\n",
       "    <tr style=\"text-align: right;\">\n",
       "      <th>Gender</th>\n",
       "      <th>Female</th>\n",
       "      <th>Male</th>\n",
       "    </tr>\n",
       "    <tr>\n",
       "      <th>Quantity</th>\n",
       "      <th></th>\n",
       "      <th></th>\n",
       "    </tr>\n",
       "  </thead>\n",
       "  <tbody>\n",
       "    <tr>\n",
       "      <th>1</th>\n",
       "      <td>45</td>\n",
       "      <td>67</td>\n",
       "    </tr>\n",
       "    <tr>\n",
       "      <th>2</th>\n",
       "      <td>44</td>\n",
       "      <td>47</td>\n",
       "    </tr>\n",
       "    <tr>\n",
       "      <th>3</th>\n",
       "      <td>41</td>\n",
       "      <td>49</td>\n",
       "    </tr>\n",
       "    <tr>\n",
       "      <th>4</th>\n",
       "      <td>55</td>\n",
       "      <td>54</td>\n",
       "    </tr>\n",
       "    <tr>\n",
       "      <th>5</th>\n",
       "      <td>56</td>\n",
       "      <td>46</td>\n",
       "    </tr>\n",
       "    <tr>\n",
       "      <th>6</th>\n",
       "      <td>50</td>\n",
       "      <td>48</td>\n",
       "    </tr>\n",
       "    <tr>\n",
       "      <th>7</th>\n",
       "      <td>49</td>\n",
       "      <td>53</td>\n",
       "    </tr>\n",
       "    <tr>\n",
       "      <th>8</th>\n",
       "      <td>42</td>\n",
       "      <td>43</td>\n",
       "    </tr>\n",
       "    <tr>\n",
       "      <th>9</th>\n",
       "      <td>56</td>\n",
       "      <td>36</td>\n",
       "    </tr>\n",
       "    <tr>\n",
       "      <th>10</th>\n",
       "      <td>63</td>\n",
       "      <td>56</td>\n",
       "    </tr>\n",
       "  </tbody>\n",
       "</table>\n",
       "</div>"
      ],
      "text/plain": [
       "Gender    Female  Male\n",
       "Quantity              \n",
       "1             45    67\n",
       "2             44    47\n",
       "3             41    49\n",
       "4             55    54\n",
       "5             56    46\n",
       "6             50    48\n",
       "7             49    53\n",
       "8             42    43\n",
       "9             56    36\n",
       "10            63    56"
      ]
     },
     "execution_count": 48,
     "metadata": {},
     "output_type": "execute_result"
    }
   ],
   "source": [
    "raw.groupby('Quantity')['Gender'].value_counts().unstack()"
   ]
  },
  {
   "cell_type": "code",
   "execution_count": 49,
   "id": "4766c510",
   "metadata": {},
   "outputs": [
    {
     "data": {
      "text/plain": [
       "<seaborn.axisgrid.FacetGrid at 0x2266e61ba90>"
      ]
     },
     "execution_count": 49,
     "metadata": {},
     "output_type": "execute_result"
    },
    {
     "data": {
      "image/png": "[encoded data removed]",
      "text/plain": [
       "<Figure size 436.35x360 with 1 Axes>"
      ]
     },
     "metadata": {},
     "output_type": "display_data"
    }
   ],
   "source": [
    "sns.catplot(x='Quantity', hue='Gender',\n",
    "            kind='count', data=raw)"
   ]
  },
  {
   "cell_type": "code",
   "execution_count": 45,
   "id": "bcdcd253",
   "metadata": {
    "collapsed": true
   },
   "outputs": [
    {
     "data": {
      "text/plain": [
       "Text(0.5, 1.0, 'Payment Channel by Gender')"
      ]
     },
     "execution_count": 45,
     "metadata": {},
     "output_type": "execute_result"
    },
    {
     "data": {
      "image/png": "[encoded data removed]",
      "text/plain": [
       "<Figure size 432x288 with 1 Axes>"
      ]
     },
     "metadata": {},
     "output_type": "display_data"
    }
   ],
   "source": [
    "sns.set_theme(style=\"whitegrid\")\n",
    "sns.countplot(x='Payment',\n",
    "            hue='Gender',\n",
    "            data=raw).set_title(\"Payment Channel by Gender\")"
   ]
  },
  {
   "cell_type": "code",
   "execution_count": 12,
   "id": "d671958b",
   "metadata": {
    "scrolled": true
   },
   "outputs": [
    {
     "data": {
      "text/html": [
       "<div>\n",
       "<style scoped>\n",
       "    .dataframe tbody tr th:only-of-type {\n",
       "        vertical-align: middle;\n",
       "    }\n",
       "\n",
       "    .dataframe tbody tr th {\n",
       "        vertical-align: top;\n",
       "    }\n",
       "\n",
       "    .dataframe thead th {\n",
       "        text-align: right;\n",
       "    }\n",
       "</style>\n",
       "<table border=\"1\" class=\"dataframe\">\n",
       "  <thead>\n",
       "    <tr style=\"text-align: right;\">\n",
       "      <th></th>\n",
       "      <th>Pc_ID</th>\n",
       "      <th>Branch</th>\n",
       "      <th>City</th>\n",
       "      <th>Customer_type</th>\n",
       "      <th>Gender</th>\n",
       "      <th>Product_line</th>\n",
       "      <th>Unit_price</th>\n",
       "      <th>Quantity</th>\n",
       "      <th>Tax</th>\n",
       "      <th>Total</th>\n",
       "      <th>Date</th>\n",
       "      <th>Time</th>\n",
       "      <th>Payment</th>\n",
       "      <th>cogs</th>\n",
       "      <th>gross_margin_perc</th>\n",
       "      <th>gross_income</th>\n",
       "      <th>Rating</th>\n",
       "    </tr>\n",
       "  </thead>\n",
       "  <tbody>\n",
       "    <tr>\n",
       "      <th>668</th>\n",
       "      <td>408-66-6712</td>\n",
       "      <td>C</td>\n",
       "      <td>Naypyitaw</td>\n",
       "      <td>Member</td>\n",
       "      <td>Female</td>\n",
       "      <td>Health and beauty</td>\n",
       "      <td>47.71</td>\n",
       "      <td>6</td>\n",
       "      <td>14.3130</td>\n",
       "      <td>300.5730</td>\n",
       "      <td>2/16/2019</td>\n",
       "      <td>14:19</td>\n",
       "      <td>Ewallet</td>\n",
       "      <td>286.26</td>\n",
       "      <td>4.761905</td>\n",
       "      <td>14.3130</td>\n",
       "      <td>4.4</td>\n",
       "    </tr>\n",
       "    <tr>\n",
       "      <th>378</th>\n",
       "      <td>595-86-2894</td>\n",
       "      <td>C</td>\n",
       "      <td>Naypyitaw</td>\n",
       "      <td>Member</td>\n",
       "      <td>Male</td>\n",
       "      <td>Fashion accessories</td>\n",
       "      <td>96.98</td>\n",
       "      <td>4</td>\n",
       "      <td>19.3960</td>\n",
       "      <td>407.3160</td>\n",
       "      <td>2/6/2019</td>\n",
       "      <td>17:20</td>\n",
       "      <td>Ewallet</td>\n",
       "      <td>387.92</td>\n",
       "      <td>4.761905</td>\n",
       "      <td>19.3960</td>\n",
       "      <td>9.4</td>\n",
       "    </tr>\n",
       "    <tr>\n",
       "      <th>941</th>\n",
       "      <td>702-83-5291</td>\n",
       "      <td>C</td>\n",
       "      <td>Naypyitaw</td>\n",
       "      <td>Member</td>\n",
       "      <td>Male</td>\n",
       "      <td>Fashion accessories</td>\n",
       "      <td>99.82</td>\n",
       "      <td>9</td>\n",
       "      <td>44.9190</td>\n",
       "      <td>943.2990</td>\n",
       "      <td>3/27/2019</td>\n",
       "      <td>10:43</td>\n",
       "      <td>Cash</td>\n",
       "      <td>898.38</td>\n",
       "      <td>4.761905</td>\n",
       "      <td>44.9190</td>\n",
       "      <td>6.6</td>\n",
       "    </tr>\n",
       "    <tr>\n",
       "      <th>700</th>\n",
       "      <td>626-43-7888</td>\n",
       "      <td>C</td>\n",
       "      <td>Naypyitaw</td>\n",
       "      <td>Normal</td>\n",
       "      <td>Female</td>\n",
       "      <td>Fashion accessories</td>\n",
       "      <td>60.41</td>\n",
       "      <td>8</td>\n",
       "      <td>24.1640</td>\n",
       "      <td>507.4440</td>\n",
       "      <td>2/7/2019</td>\n",
       "      <td>12:23</td>\n",
       "      <td>Ewallet</td>\n",
       "      <td>483.28</td>\n",
       "      <td>4.761905</td>\n",
       "      <td>24.1640</td>\n",
       "      <td>9.6</td>\n",
       "    </tr>\n",
       "    <tr>\n",
       "      <th>346</th>\n",
       "      <td>441-94-7118</td>\n",
       "      <td>A</td>\n",
       "      <td>Yangon</td>\n",
       "      <td>Member</td>\n",
       "      <td>Male</td>\n",
       "      <td>Electronic accessories</td>\n",
       "      <td>71.95</td>\n",
       "      <td>1</td>\n",
       "      <td>3.5975</td>\n",
       "      <td>75.5475</td>\n",
       "      <td>2/4/2019</td>\n",
       "      <td>12:14</td>\n",
       "      <td>Cash</td>\n",
       "      <td>71.95</td>\n",
       "      <td>4.761905</td>\n",
       "      <td>3.5975</td>\n",
       "      <td>7.3</td>\n",
       "    </tr>\n",
       "    <tr>\n",
       "      <th>784</th>\n",
       "      <td>516-77-6464</td>\n",
       "      <td>C</td>\n",
       "      <td>Naypyitaw</td>\n",
       "      <td>Member</td>\n",
       "      <td>Female</td>\n",
       "      <td>Health and beauty</td>\n",
       "      <td>10.16</td>\n",
       "      <td>5</td>\n",
       "      <td>2.5400</td>\n",
       "      <td>53.3400</td>\n",
       "      <td>2/24/2019</td>\n",
       "      <td>13:08</td>\n",
       "      <td>Ewallet</td>\n",
       "      <td>50.80</td>\n",
       "      <td>4.761905</td>\n",
       "      <td>2.5400</td>\n",
       "      <td>4.1</td>\n",
       "    </tr>\n",
       "    <tr>\n",
       "      <th>825</th>\n",
       "      <td>569-76-2760</td>\n",
       "      <td>A</td>\n",
       "      <td>Yangon</td>\n",
       "      <td>Member</td>\n",
       "      <td>Female</td>\n",
       "      <td>Sports and travel</td>\n",
       "      <td>22.01</td>\n",
       "      <td>4</td>\n",
       "      <td>4.4020</td>\n",
       "      <td>92.4420</td>\n",
       "      <td>1/29/2019</td>\n",
       "      <td>18:15</td>\n",
       "      <td>Credit card</td>\n",
       "      <td>88.04</td>\n",
       "      <td>4.761905</td>\n",
       "      <td>4.4020</td>\n",
       "      <td>6.6</td>\n",
       "    </tr>\n",
       "    <tr>\n",
       "      <th>255</th>\n",
       "      <td>110-48-7033</td>\n",
       "      <td>B</td>\n",
       "      <td>Mandalay</td>\n",
       "      <td>Member</td>\n",
       "      <td>Male</td>\n",
       "      <td>Fashion accessories</td>\n",
       "      <td>32.62</td>\n",
       "      <td>4</td>\n",
       "      <td>6.5240</td>\n",
       "      <td>137.0040</td>\n",
       "      <td>1/29/2019</td>\n",
       "      <td>14:12</td>\n",
       "      <td>Cash</td>\n",
       "      <td>130.48</td>\n",
       "      <td>4.761905</td>\n",
       "      <td>6.5240</td>\n",
       "      <td>9.0</td>\n",
       "    </tr>\n",
       "    <tr>\n",
       "      <th>782</th>\n",
       "      <td>307-04-2070</td>\n",
       "      <td>A</td>\n",
       "      <td>Yangon</td>\n",
       "      <td>Member</td>\n",
       "      <td>Female</td>\n",
       "      <td>Fashion accessories</td>\n",
       "      <td>30.62</td>\n",
       "      <td>1</td>\n",
       "      <td>1.5310</td>\n",
       "      <td>32.1510</td>\n",
       "      <td>2/5/2019</td>\n",
       "      <td>14:14</td>\n",
       "      <td>Credit card</td>\n",
       "      <td>30.62</td>\n",
       "      <td>4.761905</td>\n",
       "      <td>1.5310</td>\n",
       "      <td>4.1</td>\n",
       "    </tr>\n",
       "    <tr>\n",
       "      <th>881</th>\n",
       "      <td>115-38-7388</td>\n",
       "      <td>C</td>\n",
       "      <td>Naypyitaw</td>\n",
       "      <td>Member</td>\n",
       "      <td>Female</td>\n",
       "      <td>Fashion accessories</td>\n",
       "      <td>10.18</td>\n",
       "      <td>8</td>\n",
       "      <td>4.0720</td>\n",
       "      <td>85.5120</td>\n",
       "      <td>3/30/2019</td>\n",
       "      <td>12:51</td>\n",
       "      <td>Credit card</td>\n",
       "      <td>81.44</td>\n",
       "      <td>4.761905</td>\n",
       "      <td>4.0720</td>\n",
       "      <td>9.5</td>\n",
       "    </tr>\n",
       "  </tbody>\n",
       "</table>\n",
       "</div>"
      ],
      "text/plain": [
       "           Pc_ID Branch       City Customer_type  Gender  \\\n",
       "668  408-66-6712      C  Naypyitaw        Member  Female   \n",
       "378  595-86-2894      C  Naypyitaw        Member    Male   \n",
       "941  702-83-5291      C  Naypyitaw        Member    Male   \n",
       "700  626-43-7888      C  Naypyitaw        Normal  Female   \n",
       "346  441-94-7118      A     Yangon        Member    Male   \n",
       "784  516-77-6464      C  Naypyitaw        Member  Female   \n",
       "825  569-76-2760      A     Yangon        Member  Female   \n",
       "255  110-48-7033      B   Mandalay        Member    Male   \n",
       "782  307-04-2070      A     Yangon        Member  Female   \n",
       "881  115-38-7388      C  Naypyitaw        Member  Female   \n",
       "\n",
       "               Product_line  Unit_price  Quantity      Tax     Total  \\\n",
       "668       Health and beauty       47.71         6  14.3130  300.5730   \n",
       "378     Fashion accessories       96.98         4  19.3960  407.3160   \n",
       "941     Fashion accessories       99.82         9  44.9190  943.2990   \n",
       "700     Fashion accessories       60.41         8  24.1640  507.4440   \n",
       "346  Electronic accessories       71.95         1   3.5975   75.5475   \n",
       "784       Health and beauty       10.16         5   2.5400   53.3400   \n",
       "825       Sports and travel       22.01         4   4.4020   92.4420   \n",
       "255     Fashion accessories       32.62         4   6.5240  137.0040   \n",
       "782     Fashion accessories       30.62         1   1.5310   32.1510   \n",
       "881     Fashion accessories       10.18         8   4.0720   85.5120   \n",
       "\n",
       "          Date   Time      Payment    cogs  gross_margin_perc  gross_income  \\\n",
       "668  2/16/2019  14:19      Ewallet  286.26           4.761905       14.3130   \n",
       "378   2/6/2019  17:20      Ewallet  387.92           4.761905       19.3960   \n",
       "941  3/27/2019  10:43         Cash  898.38           4.761905       44.9190   \n",
       "700   2/7/2019  12:23      Ewallet  483.28           4.761905       24.1640   \n",
       "346   2/4/2019  12:14         Cash   71.95           4.761905        3.5975   \n",
       "784  2/24/2019  13:08      Ewallet   50.80           4.761905        2.5400   \n",
       "825  1/29/2019  18:15  Credit card   88.04           4.761905        4.4020   \n",
       "255  1/29/2019  14:12         Cash  130.48           4.761905        6.5240   \n",
       "782   2/5/2019  14:14  Credit card   30.62           4.761905        1.5310   \n",
       "881  3/30/2019  12:51  Credit card   81.44           4.761905        4.0720   \n",
       "\n",
       "     Rating  \n",
       "668     4.4  \n",
       "378     9.4  \n",
       "941     6.6  \n",
       "700     9.6  \n",
       "346     7.3  \n",
       "784     4.1  \n",
       "825     6.6  \n",
       "255     9.0  \n",
       "782     4.1  \n",
       "881     9.5  "
      ]
     },
     "execution_count": 12,
     "metadata": {},
     "output_type": "execute_result"
    }
   ],
   "source": [
    "raw.sample(10)"
   ]
  }
 ],
 "metadata": {
  "kernelspec": {
   "display_name": "Python 3 (ipykernel)",
   "language": "python",
   "name": "python3"
  },
  "language_info": {
   "codemirror_mode": {
    "name": "ipython",
    "version": 3
   },
   "file_extension": ".py",
   "mimetype": "text/x-python",
   "name": "python",
   "nbconvert_exporter": "python",
   "pygments_lexer": "ipython3",
   "version": "3.9.6"
  }
 },
 "nbformat": 4,
 "nbformat_minor": 5
}
