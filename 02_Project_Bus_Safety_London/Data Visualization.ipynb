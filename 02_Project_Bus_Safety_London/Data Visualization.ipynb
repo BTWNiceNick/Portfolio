{
 "cells": [
  {
   "cell_type": "code",
   "execution_count": 1,
   "id": "c0b0492e",
   "metadata": {
    "scrolled": true
   },
   "outputs": [
    {
     "name": "stdout",
     "output_type": "stream",
     "text": [
      "<class 'pandas.core.frame.DataFrame'>\n",
      "RangeIndex: 23158 entries, 0 to 23157\n",
      "Data columns (total 12 columns):\n",
      " #   Column                     Non-Null Count  Dtype \n",
      "---  ------                     --------------  ----- \n",
      " 0   Year                       23158 non-null  int64 \n",
      " 1   Date Of Incident           23158 non-null  object\n",
      " 2   Route                      23158 non-null  object\n",
      " 3   Operator                   23158 non-null  object\n",
      " 4   Group Name                 23158 non-null  object\n",
      " 5   Bus Garage                 23158 non-null  object\n",
      " 6   Borough                    23158 non-null  object\n",
      " 7   Injury Result Description  23158 non-null  object\n",
      " 8   Incident Event Type        23158 non-null  object\n",
      " 9   Victim Category            23158 non-null  object\n",
      " 10  Victims Sex                23158 non-null  object\n",
      " 11  Victims Age                23158 non-null  object\n",
      "dtypes: int64(1), object(11)\n",
      "memory usage: 2.1+ MB\n"
     ]
    }
   ],
   "source": [
    "%run Raw_v2.ipynb"
   ]
  },
  {
   "cell_type": "code",
   "execution_count": 2,
   "id": "0321de97",
   "metadata": {},
   "outputs": [],
   "source": [
    "# df.to_excel('output.xlsx')"
   ]
  },
  {
   "cell_type": "code",
   "execution_count": 2,
   "id": "3bde4799",
   "metadata": {
    "scrolled": false
   },
   "outputs": [
    {
     "data": {
      "text/html": [
       "<div>\n",
       "<style scoped>\n",
       "    .dataframe tbody tr th:only-of-type {\n",
       "        vertical-align: middle;\n",
       "    }\n",
       "\n",
       "    .dataframe tbody tr th {\n",
       "        vertical-align: top;\n",
       "    }\n",
       "\n",
       "    .dataframe thead th {\n",
       "        text-align: right;\n",
       "    }\n",
       "</style>\n",
       "<table border=\"1\" class=\"dataframe\">\n",
       "  <thead>\n",
       "    <tr style=\"text-align: right;\">\n",
       "      <th></th>\n",
       "      <th>Year</th>\n",
       "      <th>month</th>\n",
       "      <th>Route</th>\n",
       "      <th>Operator</th>\n",
       "      <th>Group_Name</th>\n",
       "      <th>Bus_Garage</th>\n",
       "      <th>Borough</th>\n",
       "      <th>Injury_Result_Description</th>\n",
       "      <th>Incident_Event_Type</th>\n",
       "      <th>Victim_Category</th>\n",
       "      <th>Victims_Sex</th>\n",
       "      <th>Victims_Age</th>\n",
       "    </tr>\n",
       "  </thead>\n",
       "  <tbody>\n",
       "    <tr>\n",
       "      <th>0</th>\n",
       "      <td>2015</td>\n",
       "      <td>Jan</td>\n",
       "      <td>1</td>\n",
       "      <td>London General</td>\n",
       "      <td>Go-Ahead</td>\n",
       "      <td>NaN</td>\n",
       "      <td>Southwark</td>\n",
       "      <td>Injuries treated on scene</td>\n",
       "      <td>Onboard Injuries</td>\n",
       "      <td>Passenger</td>\n",
       "      <td>Male</td>\n",
       "      <td>Child</td>\n",
       "    </tr>\n",
       "    <tr>\n",
       "      <th>1</th>\n",
       "      <td>2015</td>\n",
       "      <td>Jan</td>\n",
       "      <td>4</td>\n",
       "      <td>Metroline</td>\n",
       "      <td>Metroline</td>\n",
       "      <td>NaN</td>\n",
       "      <td>Islington</td>\n",
       "      <td>Injuries treated on scene</td>\n",
       "      <td>Onboard Injuries</td>\n",
       "      <td>Passenger</td>\n",
       "      <td>Male</td>\n",
       "      <td>Unknown</td>\n",
       "    </tr>\n",
       "    <tr>\n",
       "      <th>2</th>\n",
       "      <td>2015</td>\n",
       "      <td>Jan</td>\n",
       "      <td>5</td>\n",
       "      <td>East London</td>\n",
       "      <td>Stagecoach</td>\n",
       "      <td>NaN</td>\n",
       "      <td>Havering</td>\n",
       "      <td>Taken to Hospital – Reported Serious Injury or...</td>\n",
       "      <td>Onboard Injuries</td>\n",
       "      <td>Passenger</td>\n",
       "      <td>Male</td>\n",
       "      <td>Elderly</td>\n",
       "    </tr>\n",
       "  </tbody>\n",
       "</table>\n",
       "</div>"
      ],
      "text/plain": [
       "   Year month Route        Operator  Group_Name Bus_Garage    Borough  \\\n",
       "0  2015   Jan     1  London General    Go-Ahead        NaN  Southwark   \n",
       "1  2015   Jan     4       Metroline   Metroline        NaN  Islington   \n",
       "2  2015   Jan     5     East London  Stagecoach        NaN   Havering   \n",
       "\n",
       "                           Injury_Result_Description Incident_Event_Type  \\\n",
       "0                          Injuries treated on scene    Onboard Injuries   \n",
       "1                          Injuries treated on scene    Onboard Injuries   \n",
       "2  Taken to Hospital – Reported Serious Injury or...    Onboard Injuries   \n",
       "\n",
       "  Victim_Category Victims_Sex Victims_Age  \n",
       "0       Passenger        Male       Child  \n",
       "1       Passenger        Male     Unknown  \n",
       "2       Passenger        Male     Elderly  "
      ]
     },
     "execution_count": 2,
     "metadata": {},
     "output_type": "execute_result"
    }
   ],
   "source": [
    "df.head(3)"
   ]
  },
  {
   "cell_type": "code",
   "execution_count": 3,
   "id": "36961fcc",
   "metadata": {
    "scrolled": true
   },
   "outputs": [
    {
     "data": {
      "text/plain": [
       "Passenger                      18828\n",
       "Pedestrian                      1612\n",
       "Bus Driver                      1484\n",
       "3rd Party driver / Occupant      573\n",
       "Cyclist                          275\n",
       "Member Of Public                 127\n",
       "Motorcyclist                     102\n",
       "Operational Staff                 59\n",
       "Cyclist                           33\n",
       "Conductor                         28\n",
       "Other                             16\n",
       "Contractor Staff                   6\n",
       "TfL Staff                          4\n",
       "Non-Operational Staff              4\n",
       "Motorcyclist                       4\n",
       "Insufficient Data                  2\n",
       "Operations staff (other)           1\n",
       "Name: Victim_Category, dtype: int64"
      ]
     },
     "execution_count": 3,
     "metadata": {},
     "output_type": "execute_result"
    }
   ],
   "source": [
    "df.Victim_Category.value_counts()"
   ]
  },
  {
   "cell_type": "code",
   "execution_count": 4,
   "id": "cf7d0234",
   "metadata": {
    "scrolled": true
   },
   "outputs": [
    {
     "data": {
      "text/plain": [
       "array(['Passenger', 'Pedestrian', 'Conductor', 'Bus Driver',\n",
       "       'Member Of Public', 'Cyclist', 'Motorcyclist',\n",
       "       '3rd Party driver / Occupant', 'Other', 'Non-Operational Staff',\n",
       "       'Operational Staff', 'Contractor Staff', 'TfL Staff',\n",
       "       'Operations staff (other)', 'Cyclist ', 'Motorcyclist ',\n",
       "       'Insufficient Data'], dtype=object)"
      ]
     },
     "execution_count": 4,
     "metadata": {},
     "output_type": "execute_result"
    }
   ],
   "source": [
    "df.Victim_Category.unique()"
   ]
  },
  {
   "cell_type": "code",
   "execution_count": 5,
   "id": "dfe3593e",
   "metadata": {},
   "outputs": [],
   "source": [
    "df.Victim_Category.replace('Cyclist ','Cyclist', inplace=True)"
   ]
  },
  {
   "cell_type": "code",
   "execution_count": 6,
   "id": "68fe8cc5",
   "metadata": {},
   "outputs": [],
   "source": [
    "df.Victim_Category.replace('Motorcyclist ','Motorcyclist', inplace=True)"
   ]
  },
  {
   "cell_type": "code",
   "execution_count": 7,
   "id": "c9afb3b7",
   "metadata": {
    "scrolled": false
   },
   "outputs": [
    {
     "data": {
      "text/plain": [
       "Passenger                      18828\n",
       "Pedestrian                      1612\n",
       "Bus Driver                      1484\n",
       "3rd Party driver / Occupant      573\n",
       "Cyclist                          308\n",
       "Member Of Public                 127\n",
       "Motorcyclist                     106\n",
       "Operational Staff                 59\n",
       "Conductor                         28\n",
       "Other                             16\n",
       "Contractor Staff                   6\n",
       "Non-Operational Staff              4\n",
       "TfL Staff                          4\n",
       "Insufficient Data                  2\n",
       "Operations staff (other)           1\n",
       "Name: Victim_Category, dtype: int64"
      ]
     },
     "execution_count": 7,
     "metadata": {},
     "output_type": "execute_result"
    }
   ],
   "source": [
    "df.Victim_Category.value_counts()"
   ]
  },
  {
   "cell_type": "code",
   "execution_count": 6,
   "id": "6e333152",
   "metadata": {},
   "outputs": [
    {
     "data": {
      "text/plain": [
       "<AxesSubplot:ylabel='Frequency'>"
      ]
     },
     "execution_count": 6,
     "metadata": {},
     "output_type": "execute_result"
    },
    {
     "data": {
      "image/png": "[encoded data removed]",
      "text/plain": [
       "<Figure size 432x288 with 1 Axes>"
      ]
     },
     "metadata": {
      "needs_background": "light"
     },
     "output_type": "display_data"
    }
   ],
   "source": []
  },
  {
   "cell_type": "markdown",
   "id": "dece1986",
   "metadata": {},
   "source": [
    "---\n",
    "## Data Visualization"
   ]
  },
  {
   "cell_type": "markdown",
   "id": "eb8c4c56",
   "metadata": {},
   "source": [
    "Overall graph Incident by Sex"
   ]
  },
  {
   "cell_type": "code",
   "execution_count": 8,
   "id": "028b59fa",
   "metadata": {
    "scrolled": true
   },
   "outputs": [],
   "source": [
    "import seaborn as sns\n",
    "import matplotlib.pyplot as plt\n",
    "\n",
    "sns.set_theme(style=\"whitegrid\")"
   ]
  },
  {
   "cell_type": "code",
   "execution_count": 9,
   "id": "1d908f2d",
   "metadata": {
    "scrolled": false
   },
   "outputs": [
    {
     "data": {
      "text/plain": [
       "Text(0.5, 8.95999999999998, '')"
      ]
     },
     "execution_count": 9,
     "metadata": {},
     "output_type": "execute_result"
    },
    {
     "data": {
      "image/png": "[encoded data removed]",
      "text/plain": [
       "<Figure size 360x360 with 1 Axes>"
      ]
     },
     "metadata": {},
     "output_type": "display_data"
    }
   ],
   "source": [
    "sns.displot(data=df,x='Victims_Sex')\n",
    "plt.xlabel('')"
   ]
  },
  {
   "cell_type": "code",
   "execution_count": 10,
   "id": "f3a62d0e",
   "metadata": {
    "scrolled": false
   },
   "outputs": [
    {
     "data": {
      "text/plain": [
       "<seaborn.axisgrid.FacetGrid at 0x1dff8d52670>"
      ]
     },
     "execution_count": 10,
     "metadata": {},
     "output_type": "execute_result"
    },
    {
     "data": {
      "image/png": "[encoded data removed]",
      "text/plain": [
       "<Figure size 360x360 with 1 Axes>"
      ]
     },
     "metadata": {},
     "output_type": "display_data"
    }
   ],
   "source": [
    "ax = sns.displot(data=df.sort_values(['Victims_Sex']).reset_index(drop=True),x='Victims_Sex')\n",
    "\n",
    "plt.xlabel('')\n",
    "ax.set(title='Victims Sex')"
   ]
  },
  {
   "cell_type": "code",
   "execution_count": 11,
   "id": "c0683c52",
   "metadata": {
    "scrolled": true
   },
   "outputs": [
    {
     "data": {
      "image/png": "[encoded data removed]",
      "text/plain": [
       "<Figure size 360x360 with 1 Axes>"
      ]
     },
     "metadata": {},
     "output_type": "display_data"
    }
   ],
   "source": [
    "sns.set_palette(sns.color_palette('dark:salmon_r'))\n",
    "ax = sns.displot(data=df.sort_values(['Victims_Sex']).reset_index(drop=True),x='Victims_Sex')\n",
    "\n",
    "# plt.xlabel('')\n",
    "# ax.set(title='Victims Sex')"
   ]
  },
  {
   "cell_type": "code",
   "execution_count": 12,
   "id": "64bee62d",
   "metadata": {},
   "outputs": [
    {
     "data": {
      "text/plain": [
       "<AxesSubplot:ylabel='Victims_Sex'>"
      ]
     },
     "execution_count": 12,
     "metadata": {},
     "output_type": "execute_result"
    },
    {
     "data": {
      "image/png": "[encoded data removed]",
      "text/plain": [
       "<Figure size 432x288 with 1 Axes>"
      ]
     },
     "metadata": {},
     "output_type": "display_data"
    }
   ],
   "source": [
    "df.Victims_Sex.value_counts().plot.pie()"
   ]
  },
  {
   "cell_type": "code",
   "execution_count": 13,
   "id": "88fdcf0b",
   "metadata": {
    "scrolled": true
   },
   "outputs": [
    {
     "data": {
      "text/plain": [
       "Text(0.5, 1.0, 'Victims Sex')"
      ]
     },
     "execution_count": 13,
     "metadata": {},
     "output_type": "execute_result"
    },
    {
     "data": {
      "image/png": "[encoded data removed]",
      "text/plain": [
       "<Figure size 720x360 with 1 Axes>"
      ]
     },
     "metadata": {},
     "output_type": "display_data"
    }
   ],
   "source": [
    "colors = ('#6FC0F2','#F7D754','#F23F42')\n",
    "\n",
    "data=df['Victims_Sex'].value_counts()\n",
    "\n",
    "fig, ax = plt.subplots(figsize =(10, 5))\n",
    "\n",
    "# Plot Pie\n",
    "ax.pie(data, startangle = 90, colors = colors)\n",
    "\n",
    "# Adding legend\n",
    "legend = ['Female','Male', 'Unknown']\n",
    "ax.legend(legend,\n",
    "          title =\"Legend:\",\n",
    "          loc =\"center left\",\n",
    "          bbox_to_anchor =(1, 0, 0.5, 1))\n",
    "\n",
    "# add a circle at the center to transform it in a donut chart\n",
    "my_circle=plt.Circle((0,0), 0.55, color='white')\n",
    "p=plt.gcf()\n",
    "p.gca().add_artist(my_circle)\n",
    "\n",
    "# Add Title\n",
    "ax.set_title(\"Victims Sex\")\n",
    "\n",
    "# plt.savefig('./Img/Victims Sex Overall.png', dpi=1200)"
   ]
  },
  {
   "cell_type": "code",
   "execution_count": 14,
   "id": "45d92239",
   "metadata": {
    "scrolled": true
   },
   "outputs": [
    {
     "data": {
      "text/plain": [
       "array([51.16, 33.29, 15.55])"
      ]
     },
     "execution_count": 14,
     "metadata": {},
     "output_type": "execute_result"
    }
   ],
   "source": [
    "all_percentual = list((df.groupby('Victims_Sex')['Victims_Sex']).count())/df.Victims_Sex.count().sum()\n",
    "all_percentual = (all_percentual*100).round(2)\n",
    "all_percentual"
   ]
  },
  {
   "cell_type": "code",
   "execution_count": 15,
   "id": "adf2de52",
   "metadata": {
    "scrolled": false
   },
   "outputs": [
    {
     "data": {
      "text/html": [
       "<div>\n",
       "<style scoped>\n",
       "    .dataframe tbody tr th:only-of-type {\n",
       "        vertical-align: middle;\n",
       "    }\n",
       "\n",
       "    .dataframe tbody tr th {\n",
       "        vertical-align: top;\n",
       "    }\n",
       "\n",
       "    .dataframe thead th {\n",
       "        text-align: right;\n",
       "    }\n",
       "</style>\n",
       "<table border=\"1\" class=\"dataframe\">\n",
       "  <thead>\n",
       "    <tr style=\"text-align: right;\">\n",
       "      <th>Victims_Age</th>\n",
       "      <th>Adult</th>\n",
       "      <th>Child</th>\n",
       "      <th>Elderly</th>\n",
       "      <th>Unknown</th>\n",
       "      <th>Youth</th>\n",
       "    </tr>\n",
       "    <tr>\n",
       "      <th>Victims_Sex</th>\n",
       "      <th></th>\n",
       "      <th></th>\n",
       "      <th></th>\n",
       "      <th></th>\n",
       "      <th></th>\n",
       "    </tr>\n",
       "  </thead>\n",
       "  <tbody>\n",
       "    <tr>\n",
       "      <th>Female</th>\n",
       "      <td>6168</td>\n",
       "      <td>873</td>\n",
       "      <td>1879</td>\n",
       "      <td>2757</td>\n",
       "      <td>170</td>\n",
       "    </tr>\n",
       "    <tr>\n",
       "      <th>Male</th>\n",
       "      <td>4427</td>\n",
       "      <td>796</td>\n",
       "      <td>866</td>\n",
       "      <td>1487</td>\n",
       "      <td>133</td>\n",
       "    </tr>\n",
       "    <tr>\n",
       "      <th>Unknown</th>\n",
       "      <td>159</td>\n",
       "      <td>512</td>\n",
       "      <td>24</td>\n",
       "      <td>2891</td>\n",
       "      <td>16</td>\n",
       "    </tr>\n",
       "  </tbody>\n",
       "</table>\n",
       "</div>"
      ],
      "text/plain": [
       "Victims_Age  Adult  Child  Elderly  Unknown  Youth\n",
       "Victims_Sex                                       \n",
       "Female        6168    873     1879     2757    170\n",
       "Male          4427    796      866     1487    133\n",
       "Unknown        159    512       24     2891     16"
      ]
     },
     "execution_count": 15,
     "metadata": {},
     "output_type": "execute_result"
    }
   ],
   "source": [
    "n = df.groupby('Victims_Sex')['Victims_Age'].value_counts().unstack()\n",
    "n"
   ]
  },
  {
   "cell_type": "code",
   "execution_count": 28,
   "id": "4275a392",
   "metadata": {},
   "outputs": [
    {
     "data": {
      "image/png": "[encoded data removed]",
      "text/plain": [
       "<Figure size 432x288 with 1 Axes>"
      ]
     },
     "metadata": {},
     "output_type": "display_data"
    }
   ],
   "source": [
    "_ = n.plot.bar(color=['blue', 'red', 'green', 'violet', 'grey'])"
   ]
  },
  {
   "cell_type": "code",
   "execution_count": 16,
   "id": "cff8ea2a",
   "metadata": {
    "scrolled": true
   },
   "outputs": [
    {
     "data": {
      "text/plain": [
       "<AxesSubplot:ylabel='Victims_Age'>"
      ]
     },
     "execution_count": 16,
     "metadata": {},
     "output_type": "execute_result"
    },
    {
     "data": {
      "image/png": "[encoded data removed]",
      "text/plain": [
       "<Figure size 432x288 with 1 Axes>"
      ]
     },
     "metadata": {},
     "output_type": "display_data"
    }
   ],
   "source": [
    "df.Victims_Age.value_counts().plot.pie()"
   ]
  },
  {
   "cell_type": "code",
   "execution_count": 17,
   "id": "a1f40cca",
   "metadata": {
    "scrolled": true
   },
   "outputs": [
    {
     "data": {
      "text/plain": [
       "<seaborn.axisgrid.FacetGrid at 0x1df8cc51760>"
      ]
     },
     "execution_count": 17,
     "metadata": {},
     "output_type": "execute_result"
    },
    {
     "data": {
      "image/png": "[encoded data removed]",
      "text/plain": [
       "<Figure size 360x360 with 1 Axes>"
      ]
     },
     "metadata": {},
     "output_type": "display_data"
    }
   ],
   "source": [
    "sns.set_palette(sns.color_palette('dark:salmon_r'))\n",
    "ax1 = sns.displot(data=df.sort_values(['Victims_Age']).reset_index(drop=True),x='Victims_Age')\n",
    "\n",
    "plt.xlabel('')\n",
    "ax1.set(title='Victims Age Overall')"
   ]
  },
  {
   "cell_type": "code",
   "execution_count": 18,
   "id": "aafb621c",
   "metadata": {},
   "outputs": [
    {
     "data": {
      "text/plain": [
       "[Text(0.5, 1.0, 'Victims Age Overall')]"
      ]
     },
     "execution_count": 18,
     "metadata": {},
     "output_type": "execute_result"
    },
    {
     "data": {
      "image/png": "[encoded data removed]",
      "text/plain": [
       "<Figure size 432x288 with 1 Axes>"
      ]
     },
     "metadata": {},
     "output_type": "display_data"
    }
   ],
   "source": [
    "ax = sns.countplot(x='Victims_Age',data=df, palette = \"Set2\")\n",
    "plt.text(0.3, 0.57, '2', horizontalalignment='center', verticalalignment='center', transform=ax.transAxes, style='italic')\n",
    "plt.text(0.7, 0.9, '1', horizontalalignment='center', verticalalignment='center', transform=ax.transAxes)\n",
    "\n",
    "plt.xlabel('')\n",
    "ax.set(title='Victims Age Overall')"
   ]
  }
 ],
 "metadata": {
  "kernelspec": {
   "display_name": "Python 3 (ipykernel)",
   "language": "python",
   "name": "python3"
  },
  "language_info": {
   "codemirror_mode": {
    "name": "ipython",
    "version": 3
   },
   "file_extension": ".py",
   "mimetype": "text/x-python",
   "name": "python",
   "nbconvert_exporter": "python",
   "pygments_lexer": "ipython3",
   "version": "3.9.6"
  }
 },
 "nbformat": 4,
 "nbformat_minor": 5
}
