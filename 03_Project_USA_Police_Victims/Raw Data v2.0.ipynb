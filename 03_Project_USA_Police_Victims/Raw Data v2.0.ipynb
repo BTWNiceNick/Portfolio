{
 "cells": [
  {
   "cell_type": "markdown",
   "id": "87d4ce04",
   "metadata": {},
   "source": [
    "## Build dataset\n",
    "I will merge all little dataset in a only one"
   ]
  },
  {
   "cell_type": "code",
   "execution_count": 1,
   "id": "e662b2d6",
   "metadata": {},
   "outputs": [],
   "source": [
    "import pandas as pd"
   ]
  },
  {
   "cell_type": "code",
   "execution_count": 2,
   "id": "cb1c48ff",
   "metadata": {},
   "outputs": [],
   "source": [
    "raw = pd.read_csv('./Data/PopulationByCity.csv')"
   ]
  },
  {
   "cell_type": "code",
   "execution_count": 3,
   "id": "e8d8f287",
   "metadata": {},
   "outputs": [],
   "source": [
    "data = list(raw['population'])\n",
    "index = list(raw['state'])\n",
    "df = pd.DataFrame(data=index)"
   ]
  },
  {
   "cell_type": "code",
   "execution_count": 4,
   "id": "57a808f6",
   "metadata": {
    "scrolled": true
   },
   "outputs": [],
   "source": [
    "df.columns = ['State']"
   ]
  },
  {
   "cell_type": "code",
   "execution_count": 5,
   "id": "b54dcefc",
   "metadata": {
    "scrolled": true
   },
   "outputs": [],
   "source": [
    "df=df.assign(Population=data)"
   ]
  },
  {
   "cell_type": "code",
   "execution_count": 6,
   "id": "28807eda",
   "metadata": {},
   "outputs": [],
   "source": [
    "with open('./Data/PercentagePeopleBelowPovertyLevel.csv', encoding=\"utf8\", errors='ignore') as f:\n",
    "    raw = pd.read_csv(f)"
   ]
  },
  {
   "cell_type": "code",
   "execution_count": 7,
   "id": "3646eee6",
   "metadata": {},
   "outputs": [],
   "source": [
    "data = raw['poverty_rate']"
   ]
  },
  {
   "cell_type": "code",
   "execution_count": 8,
   "id": "604d9844",
   "metadata": {},
   "outputs": [],
   "source": [
    "import numpy as np\n",
    "replace =raw.replace('-', np.nan)"
   ]
  },
  {
   "cell_type": "code",
   "execution_count": 9,
   "id": "63de67d7",
   "metadata": {},
   "outputs": [],
   "source": [
    "to_convert = raw['poverty_rate']\n",
    "converted = pd.to_numeric(to_convert, errors='coerce')\n",
    "df = df.assign(Poverty_rate=converted)"
   ]
  },
  {
   "cell_type": "code",
   "execution_count": 10,
   "id": "a62751d9",
   "metadata": {},
   "outputs": [],
   "source": [
    "with open('./Data/MedianHouseholdIncome2015.csv', encoding=\"utf8\", errors='ignore') as f:\n",
    "    raw = pd.read_csv(f)"
   ]
  },
  {
   "cell_type": "code",
   "execution_count": 11,
   "id": "b3cbc0e1",
   "metadata": {},
   "outputs": [],
   "source": [
    "to_convert = raw['Median Income']\n",
    "converted = pd.to_numeric(to_convert, errors='coerce')\n",
    "df = df.assign(Median_income=converted)"
   ]
  },
  {
   "cell_type": "code",
   "execution_count": 12,
   "id": "cbe8dd60",
   "metadata": {},
   "outputs": [],
   "source": [
    "with open('./Data/PercentOver25CompletedHighSchool.csv', encoding=\"utf8\", errors='ignore') as f:\n",
    "    raw = pd.read_csv(f)"
   ]
  },
  {
   "cell_type": "code",
   "execution_count": 13,
   "id": "003a0e24",
   "metadata": {},
   "outputs": [],
   "source": [
    "to_convert = raw['percent_completed_hs']\n",
    "converted = pd.to_numeric(to_convert, errors='coerce')\n",
    "df = df.assign(Percent_completed_hs=converted)"
   ]
  },
  {
   "cell_type": "code",
   "execution_count": 14,
   "id": "d22d863d",
   "metadata": {},
   "outputs": [],
   "source": [
    "with open('./Data/ShareRaceByCity.csv', encoding=\"utf8\", errors='ignore') as f:\n",
    "    raw = pd.read_csv(f)"
   ]
  },
  {
   "cell_type": "code",
   "execution_count": 15,
   "id": "eebfe50b",
   "metadata": {},
   "outputs": [],
   "source": [
    "to_convert = raw['share_white']\n",
    "converted = pd.to_numeric(to_convert, errors='coerce')\n",
    "df = df.assign(share_white=converted)"
   ]
  },
  {
   "cell_type": "code",
   "execution_count": 16,
   "id": "0f837ea7",
   "metadata": {},
   "outputs": [],
   "source": [
    "to_convert = raw['share_black']\n",
    "converted = pd.to_numeric(to_convert, errors='coerce')\n",
    "df = df.assign(share_black=converted)"
   ]
  },
  {
   "cell_type": "code",
   "execution_count": 17,
   "id": "92569752",
   "metadata": {},
   "outputs": [],
   "source": [
    "to_convert = raw['share_native_american']\n",
    "converted = pd.to_numeric(to_convert, errors='coerce')\n",
    "df = df.assign(share_native_american=converted)"
   ]
  },
  {
   "cell_type": "code",
   "execution_count": 18,
   "id": "dbcf97cf",
   "metadata": {},
   "outputs": [],
   "source": [
    "to_convert = raw['share_asian']\n",
    "converted = pd.to_numeric(to_convert, errors='coerce')\n",
    "df = df.assign(share_asian=converted)"
   ]
  },
  {
   "cell_type": "code",
   "execution_count": 19,
   "id": "c7eead37",
   "metadata": {},
   "outputs": [],
   "source": [
    "to_convert = raw['share_hispanic']\n",
    "converted = pd.to_numeric(to_convert, errors='coerce')\n",
    "df = df.assign(share_hispanic=converted)"
   ]
  },
  {
   "cell_type": "code",
   "execution_count": 20,
   "id": "03313b80",
   "metadata": {},
   "outputs": [
    {
     "name": "stdout",
     "output_type": "stream",
     "text": [
      "<class 'pandas.core.frame.DataFrame'>\n",
      "RangeIndex: 2832 entries, 0 to 2831\n",
      "Data columns (total 10 columns):\n",
      " #   Column                 Non-Null Count  Dtype  \n",
      "---  ------                 --------------  -----  \n",
      " 0   State                  2832 non-null   object \n",
      " 1   Population             2832 non-null   float64\n",
      " 2   Poverty_rate           2795 non-null   float64\n",
      " 3   Median_income          2515 non-null   float64\n",
      " 4   Percent_completed_hs   2797 non-null   float64\n",
      " 5   share_white            2826 non-null   float64\n",
      " 6   share_black            2826 non-null   float64\n",
      " 7   share_native_american  2826 non-null   float64\n",
      " 8   share_asian            2826 non-null   float64\n",
      " 9   share_hispanic         2826 non-null   float64\n",
      "dtypes: float64(9), object(1)\n",
      "memory usage: 221.4+ KB\n"
     ]
    }
   ],
   "source": [
    "df.info()"
   ]
  },
  {
   "cell_type": "code",
   "execution_count": 21,
   "id": "b09befa5",
   "metadata": {
    "scrolled": true
   },
   "outputs": [
    {
     "data": {
      "text/html": [
       "<div>\n",
       "<style scoped>\n",
       "    .dataframe tbody tr th:only-of-type {\n",
       "        vertical-align: middle;\n",
       "    }\n",
       "\n",
       "    .dataframe tbody tr th {\n",
       "        vertical-align: top;\n",
       "    }\n",
       "\n",
       "    .dataframe thead th {\n",
       "        text-align: right;\n",
       "    }\n",
       "</style>\n",
       "<table border=\"1\" class=\"dataframe\">\n",
       "  <thead>\n",
       "    <tr style=\"text-align: right;\">\n",
       "      <th></th>\n",
       "      <th>State</th>\n",
       "      <th>Population</th>\n",
       "      <th>Poverty_rate</th>\n",
       "      <th>Median_income</th>\n",
       "      <th>Percent_completed_hs</th>\n",
       "      <th>share_white</th>\n",
       "      <th>share_black</th>\n",
       "      <th>share_native_american</th>\n",
       "      <th>share_asian</th>\n",
       "      <th>share_hispanic</th>\n",
       "    </tr>\n",
       "  </thead>\n",
       "  <tbody>\n",
       "    <tr>\n",
       "      <th>0</th>\n",
       "      <td>AK</td>\n",
       "      <td>2057.0</td>\n",
       "      <td>78.8</td>\n",
       "      <td>11207.0</td>\n",
       "      <td>21.2</td>\n",
       "      <td>67.2</td>\n",
       "      <td>30.2</td>\n",
       "      <td>0.0</td>\n",
       "      <td>0.0</td>\n",
       "      <td>1.6</td>\n",
       "    </tr>\n",
       "    <tr>\n",
       "      <th>1</th>\n",
       "      <td>AK</td>\n",
       "      <td>253421.0</td>\n",
       "      <td>29.1</td>\n",
       "      <td>25615.0</td>\n",
       "      <td>69.1</td>\n",
       "      <td>54.4</td>\n",
       "      <td>41.4</td>\n",
       "      <td>0.1</td>\n",
       "      <td>1.0</td>\n",
       "      <td>3.1</td>\n",
       "    </tr>\n",
       "    <tr>\n",
       "      <th>2</th>\n",
       "      <td>AK</td>\n",
       "      <td>4178.0</td>\n",
       "      <td>25.5</td>\n",
       "      <td>42575.0</td>\n",
       "      <td>78.9</td>\n",
       "      <td>52.3</td>\n",
       "      <td>44.9</td>\n",
       "      <td>0.5</td>\n",
       "      <td>0.3</td>\n",
       "      <td>2.3</td>\n",
       "    </tr>\n",
       "    <tr>\n",
       "      <th>3</th>\n",
       "      <td>AK</td>\n",
       "      <td>3136.0</td>\n",
       "      <td>30.7</td>\n",
       "      <td>37083.0</td>\n",
       "      <td>81.4</td>\n",
       "      <td>99.1</td>\n",
       "      <td>0.1</td>\n",
       "      <td>0.0</td>\n",
       "      <td>0.1</td>\n",
       "      <td>0.4</td>\n",
       "    </tr>\n",
       "    <tr>\n",
       "      <th>4</th>\n",
       "      <td>AK</td>\n",
       "      <td>397.0</td>\n",
       "      <td>42.0</td>\n",
       "      <td>21667.0</td>\n",
       "      <td>68.6</td>\n",
       "      <td>13.2</td>\n",
       "      <td>86.5</td>\n",
       "      <td>0.0</td>\n",
       "      <td>0.0</td>\n",
       "      <td>0.3</td>\n",
       "    </tr>\n",
       "  </tbody>\n",
       "</table>\n",
       "</div>"
      ],
      "text/plain": [
       "  State  Population  Poverty_rate  Median_income  Percent_completed_hs  \\\n",
       "0    AK      2057.0          78.8        11207.0                  21.2   \n",
       "1    AK    253421.0          29.1        25615.0                  69.1   \n",
       "2    AK      4178.0          25.5        42575.0                  78.9   \n",
       "3    AK      3136.0          30.7        37083.0                  81.4   \n",
       "4    AK       397.0          42.0        21667.0                  68.6   \n",
       "\n",
       "   share_white  share_black  share_native_american  share_asian  \\\n",
       "0         67.2         30.2                    0.0          0.0   \n",
       "1         54.4         41.4                    0.1          1.0   \n",
       "2         52.3         44.9                    0.5          0.3   \n",
       "3         99.1          0.1                    0.0          0.1   \n",
       "4         13.2         86.5                    0.0          0.0   \n",
       "\n",
       "   share_hispanic  \n",
       "0             1.6  \n",
       "1             3.1  \n",
       "2             2.3  \n",
       "3             0.4  \n",
       "4             0.3  "
      ]
     },
     "execution_count": 21,
     "metadata": {},
     "output_type": "execute_result"
    }
   ],
   "source": [
    "df.head()"
   ]
  },
  {
   "cell_type": "markdown",
   "id": "4c406260",
   "metadata": {},
   "source": [
    "## Analisis"
   ]
  },
  {
   "cell_type": "code",
   "execution_count": 22,
   "id": "218a32ca",
   "metadata": {},
   "outputs": [
    {
     "data": {
      "text/plain": [
       "101104.0"
      ]
     },
     "execution_count": 22,
     "metadata": {},
     "output_type": "execute_result"
    }
   ],
   "source": [
    "df['Population'].mean().round()"
   ]
  },
  {
   "cell_type": "code",
   "execution_count": 23,
   "id": "49cb27c7",
   "metadata": {
    "scrolled": true
   },
   "outputs": [
    {
     "data": {
      "text/plain": [
       "20.7"
      ]
     },
     "execution_count": 23,
     "metadata": {},
     "output_type": "execute_result"
    }
   ],
   "source": [
    "df['Poverty_rate'].mean().round(2)"
   ]
  },
  {
   "cell_type": "code",
   "execution_count": 24,
   "id": "d56c13ec",
   "metadata": {},
   "outputs": [
    {
     "data": {
      "text/plain": [
       "47740.47"
      ]
     },
     "execution_count": 24,
     "metadata": {},
     "output_type": "execute_result"
    }
   ],
   "source": [
    "df['Median_income'].mean().round(2)"
   ]
  },
  {
   "cell_type": "code",
   "execution_count": 43,
   "id": "d34d40f3",
   "metadata": {},
   "outputs": [
    {
     "data": {
      "text/html": [
       "<div>\n",
       "<style scoped>\n",
       "    .dataframe tbody tr th:only-of-type {\n",
       "        vertical-align: middle;\n",
       "    }\n",
       "\n",
       "    .dataframe tbody tr th {\n",
       "        vertical-align: top;\n",
       "    }\n",
       "\n",
       "    .dataframe thead th {\n",
       "        text-align: right;\n",
       "    }\n",
       "</style>\n",
       "<table border=\"1\" class=\"dataframe\">\n",
       "  <thead>\n",
       "    <tr style=\"text-align: right;\">\n",
       "      <th></th>\n",
       "      <th>Population</th>\n",
       "      <th>Poverty_rate</th>\n",
       "      <th>Median_income</th>\n",
       "      <th>Percent_completed_hs</th>\n",
       "      <th>share_white</th>\n",
       "      <th>share_black</th>\n",
       "      <th>share_native_american</th>\n",
       "      <th>share_asian</th>\n",
       "      <th>share_hispanic</th>\n",
       "    </tr>\n",
       "  </thead>\n",
       "  <tbody>\n",
       "    <tr>\n",
       "      <th>Population</th>\n",
       "      <td>1.000000</td>\n",
       "      <td>0.007663</td>\n",
       "      <td>-0.009568</td>\n",
       "      <td>-0.011609</td>\n",
       "      <td>-0.012401</td>\n",
       "      <td>0.026441</td>\n",
       "      <td>0.002788</td>\n",
       "      <td>-0.010554</td>\n",
       "      <td>-0.017358</td>\n",
       "    </tr>\n",
       "    <tr>\n",
       "      <th>Poverty_rate</th>\n",
       "      <td>0.007663</td>\n",
       "      <td>1.000000</td>\n",
       "      <td>-0.610774</td>\n",
       "      <td>-0.473210</td>\n",
       "      <td>-0.022700</td>\n",
       "      <td>-0.002568</td>\n",
       "      <td>0.064383</td>\n",
       "      <td>-0.043093</td>\n",
       "      <td>-0.058070</td>\n",
       "    </tr>\n",
       "    <tr>\n",
       "      <th>Median_income</th>\n",
       "      <td>-0.009568</td>\n",
       "      <td>-0.610774</td>\n",
       "      <td>1.000000</td>\n",
       "      <td>0.485010</td>\n",
       "      <td>-0.022019</td>\n",
       "      <td>-0.121395</td>\n",
       "      <td>0.001541</td>\n",
       "      <td>0.114273</td>\n",
       "      <td>0.174286</td>\n",
       "    </tr>\n",
       "    <tr>\n",
       "      <th>Percent_completed_hs</th>\n",
       "      <td>-0.011609</td>\n",
       "      <td>-0.473210</td>\n",
       "      <td>0.485010</td>\n",
       "      <td>1.000000</td>\n",
       "      <td>-0.017818</td>\n",
       "      <td>-0.010319</td>\n",
       "      <td>0.023715</td>\n",
       "      <td>-0.016823</td>\n",
       "      <td>0.010498</td>\n",
       "    </tr>\n",
       "    <tr>\n",
       "      <th>share_white</th>\n",
       "      <td>-0.012401</td>\n",
       "      <td>-0.022700</td>\n",
       "      <td>-0.022019</td>\n",
       "      <td>-0.017818</td>\n",
       "      <td>1.000000</td>\n",
       "      <td>-0.380541</td>\n",
       "      <td>-0.720809</td>\n",
       "      <td>-0.121018</td>\n",
       "      <td>-0.128818</td>\n",
       "    </tr>\n",
       "    <tr>\n",
       "      <th>share_black</th>\n",
       "      <td>0.026441</td>\n",
       "      <td>-0.002568</td>\n",
       "      <td>-0.121395</td>\n",
       "      <td>-0.010319</td>\n",
       "      <td>-0.380541</td>\n",
       "      <td>1.000000</td>\n",
       "      <td>-0.181414</td>\n",
       "      <td>-0.073851</td>\n",
       "      <td>-0.173032</td>\n",
       "    </tr>\n",
       "    <tr>\n",
       "      <th>share_native_american</th>\n",
       "      <td>0.002788</td>\n",
       "      <td>0.064383</td>\n",
       "      <td>0.001541</td>\n",
       "      <td>0.023715</td>\n",
       "      <td>-0.720809</td>\n",
       "      <td>-0.181414</td>\n",
       "      <td>1.000000</td>\n",
       "      <td>-0.111652</td>\n",
       "      <td>-0.177073</td>\n",
       "    </tr>\n",
       "    <tr>\n",
       "      <th>share_asian</th>\n",
       "      <td>-0.010554</td>\n",
       "      <td>-0.043093</td>\n",
       "      <td>0.114273</td>\n",
       "      <td>-0.016823</td>\n",
       "      <td>-0.121018</td>\n",
       "      <td>-0.073851</td>\n",
       "      <td>-0.111652</td>\n",
       "      <td>1.000000</td>\n",
       "      <td>0.154398</td>\n",
       "    </tr>\n",
       "    <tr>\n",
       "      <th>share_hispanic</th>\n",
       "      <td>-0.017358</td>\n",
       "      <td>-0.058070</td>\n",
       "      <td>0.174286</td>\n",
       "      <td>0.010498</td>\n",
       "      <td>-0.128818</td>\n",
       "      <td>-0.173032</td>\n",
       "      <td>-0.177073</td>\n",
       "      <td>0.154398</td>\n",
       "      <td>1.000000</td>\n",
       "    </tr>\n",
       "  </tbody>\n",
       "</table>\n",
       "</div>"
      ],
      "text/plain": [
       "                       Population  Poverty_rate  Median_income  \\\n",
       "Population               1.000000      0.007663      -0.009568   \n",
       "Poverty_rate             0.007663      1.000000      -0.610774   \n",
       "Median_income           -0.009568     -0.610774       1.000000   \n",
       "Percent_completed_hs    -0.011609     -0.473210       0.485010   \n",
       "share_white             -0.012401     -0.022700      -0.022019   \n",
       "share_black              0.026441     -0.002568      -0.121395   \n",
       "share_native_american    0.002788      0.064383       0.001541   \n",
       "share_asian             -0.010554     -0.043093       0.114273   \n",
       "share_hispanic          -0.017358     -0.058070       0.174286   \n",
       "\n",
       "                       Percent_completed_hs  share_white  share_black  \\\n",
       "Population                        -0.011609    -0.012401     0.026441   \n",
       "Poverty_rate                      -0.473210    -0.022700    -0.002568   \n",
       "Median_income                      0.485010    -0.022019    -0.121395   \n",
       "Percent_completed_hs               1.000000    -0.017818    -0.010319   \n",
       "share_white                       -0.017818     1.000000    -0.380541   \n",
       "share_black                       -0.010319    -0.380541     1.000000   \n",
       "share_native_american              0.023715    -0.720809    -0.181414   \n",
       "share_asian                       -0.016823    -0.121018    -0.073851   \n",
       "share_hispanic                     0.010498    -0.128818    -0.173032   \n",
       "\n",
       "                       share_native_american  share_asian  share_hispanic  \n",
       "Population                          0.002788    -0.010554       -0.017358  \n",
       "Poverty_rate                        0.064383    -0.043093       -0.058070  \n",
       "Median_income                       0.001541     0.114273        0.174286  \n",
       "Percent_completed_hs                0.023715    -0.016823        0.010498  \n",
       "share_white                        -0.720809    -0.121018       -0.128818  \n",
       "share_black                        -0.181414    -0.073851       -0.173032  \n",
       "share_native_american               1.000000    -0.111652       -0.177073  \n",
       "share_asian                        -0.111652     1.000000        0.154398  \n",
       "share_hispanic                     -0.177073     0.154398        1.000000  "
      ]
     },
     "execution_count": 43,
     "metadata": {},
     "output_type": "execute_result"
    }
   ],
   "source": [
    "df.corr()"
   ]
  },
  {
   "cell_type": "code",
   "execution_count": 55,
   "id": "8ffd42d1",
   "metadata": {
    "scrolled": true
   },
   "outputs": [],
   "source": [
    "state = list(df['State'].unique())\n",
    "df_Overall = pd.DataFrame(data=state)\n",
    "data = list(df.groupby('State')['Population'].mean().round(2))\n",
    "df_Overall = df_Overall.assign(Population=data)\n",
    "data = list(df.groupby('State')['Poverty_rate'].mean().round(2))\n",
    "df_Overall = df_Overall.assign(Poverty_rate=data)\n",
    "data = list(df.groupby('State')['Median_income'].mean().round(2))\n",
    "df_Overall = df_Overall.assign(Median_income=data)\n",
    "data = list(df.groupby('State')['Percent_completed_hs'].mean().round(2))\n",
    "df_Overall = df_Overall.assign(Percent_completed_hs=data)\n",
    "data = list(df.groupby('State')['share_white'].mean().round(2))\n",
    "df_Overall = df_Overall.assign(share_white=data)\n",
    "data = list(df.groupby('State')['share_black'].mean().round(2))\n",
    "df_Overall = df_Overall.assign(share_black=data)\n",
    "data = list(df.groupby('State')['share_native_american'].mean().round(2))\n",
    "df_Overall = df_Overall.assign(share_native_american=data)\n",
    "data = list(df.groupby('State')['share_asian'].mean().round(2))\n",
    "df_Overall = df_Overall.assign(share_asian=data)\n",
    "data = list(df.groupby('State')['share_hispanic'].mean().round(2))\n",
    "df_Overall = df_Overall.assign(share_hispanic=data)\n",
    "df_Overall.head()\n",
    "\n",
    "df_Overall.to_csv('./Data/Overall_DataSet.csv', na_rep='(missing)')"
   ]
  },
  {
   "cell_type": "code",
   "execution_count": 58,
   "id": "fba626ef",
   "metadata": {
    "scrolled": true
   },
   "outputs": [
    {
     "data": {
      "text/html": [
       "<div>\n",
       "<style scoped>\n",
       "    .dataframe tbody tr th:only-of-type {\n",
       "        vertical-align: middle;\n",
       "    }\n",
       "\n",
       "    .dataframe tbody tr th {\n",
       "        vertical-align: top;\n",
       "    }\n",
       "\n",
       "    .dataframe thead th {\n",
       "        text-align: right;\n",
       "    }\n",
       "</style>\n",
       "<table border=\"1\" class=\"dataframe\">\n",
       "  <thead>\n",
       "    <tr style=\"text-align: right;\">\n",
       "      <th></th>\n",
       "      <th>0</th>\n",
       "      <th>Population</th>\n",
       "      <th>Poverty_rate</th>\n",
       "      <th>Median_income</th>\n",
       "      <th>Percent_completed_hs</th>\n",
       "      <th>share_white</th>\n",
       "      <th>share_black</th>\n",
       "      <th>share_native_american</th>\n",
       "      <th>share_asian</th>\n",
       "      <th>share_hispanic</th>\n",
       "    </tr>\n",
       "  </thead>\n",
       "  <tbody>\n",
       "    <tr>\n",
       "      <th>23</th>\n",
       "      <td>MN</td>\n",
       "      <td>99166.43</td>\n",
       "      <td>20.47</td>\n",
       "      <td>37969.22</td>\n",
       "      <td>77.08</td>\n",
       "      <td>84.19</td>\n",
       "      <td>9.40</td>\n",
       "      <td>0.97</td>\n",
       "      <td>0.92</td>\n",
       "      <td>5.27</td>\n",
       "    </tr>\n",
       "    <tr>\n",
       "      <th>17</th>\n",
       "      <td>KY</td>\n",
       "      <td>25903.39</td>\n",
       "      <td>23.14</td>\n",
       "      <td>43422.50</td>\n",
       "      <td>82.96</td>\n",
       "      <td>57.42</td>\n",
       "      <td>0.86</td>\n",
       "      <td>31.47</td>\n",
       "      <td>0.62</td>\n",
       "      <td>19.14</td>\n",
       "    </tr>\n",
       "    <tr>\n",
       "      <th>15</th>\n",
       "      <td>IN</td>\n",
       "      <td>70208.30</td>\n",
       "      <td>20.58</td>\n",
       "      <td>47723.41</td>\n",
       "      <td>79.40</td>\n",
       "      <td>65.38</td>\n",
       "      <td>1.28</td>\n",
       "      <td>20.62</td>\n",
       "      <td>1.00</td>\n",
       "      <td>24.69</td>\n",
       "    </tr>\n",
       "    <tr>\n",
       "      <th>25</th>\n",
       "      <td>MS</td>\n",
       "      <td>26454.93</td>\n",
       "      <td>23.42</td>\n",
       "      <td>33883.09</td>\n",
       "      <td>80.54</td>\n",
       "      <td>75.22</td>\n",
       "      <td>20.11</td>\n",
       "      <td>0.70</td>\n",
       "      <td>0.52</td>\n",
       "      <td>3.35</td>\n",
       "    </tr>\n",
       "    <tr>\n",
       "      <th>8</th>\n",
       "      <td>DE</td>\n",
       "      <td>32778.22</td>\n",
       "      <td>10.74</td>\n",
       "      <td>63343.40</td>\n",
       "      <td>86.67</td>\n",
       "      <td>49.28</td>\n",
       "      <td>0.26</td>\n",
       "      <td>43.65</td>\n",
       "      <td>0.05</td>\n",
       "      <td>1.34</td>\n",
       "    </tr>\n",
       "  </tbody>\n",
       "</table>\n",
       "</div>"
      ],
      "text/plain": [
       "     0  Population  Poverty_rate  Median_income  Percent_completed_hs  \\\n",
       "23  MN    99166.43         20.47       37969.22                 77.08   \n",
       "17  KY    25903.39         23.14       43422.50                 82.96   \n",
       "15  IN    70208.30         20.58       47723.41                 79.40   \n",
       "25  MS    26454.93         23.42       33883.09                 80.54   \n",
       "8   DE    32778.22         10.74       63343.40                 86.67   \n",
       "\n",
       "    share_white  share_black  share_native_american  share_asian  \\\n",
       "23        84.19         9.40                   0.97         0.92   \n",
       "17        57.42         0.86                  31.47         0.62   \n",
       "15        65.38         1.28                  20.62         1.00   \n",
       "25        75.22        20.11                   0.70         0.52   \n",
       "8         49.28         0.26                  43.65         0.05   \n",
       "\n",
       "    share_hispanic  \n",
       "23            5.27  \n",
       "17           19.14  \n",
       "15           24.69  \n",
       "25            3.35  \n",
       "8             1.34  "
      ]
     },
     "execution_count": 58,
     "metadata": {},
     "output_type": "execute_result"
    }
   ],
   "source": [
    "df_Overall.sample(5)"
   ]
  },
  {
   "cell_type": "code",
   "execution_count": 59,
   "id": "144d0d0c",
   "metadata": {
    "scrolled": true
   },
   "outputs": [
    {
     "name": "stdout",
     "output_type": "stream",
     "text": [
      "<class 'pandas.core.frame.DataFrame'>\n",
      "RangeIndex: 51 entries, 0 to 50\n",
      "Data columns (total 10 columns):\n",
      " #   Column                 Non-Null Count  Dtype  \n",
      "---  ------                 --------------  -----  \n",
      " 0   0                      51 non-null     object \n",
      " 1   Population             51 non-null     float64\n",
      " 2   Poverty_rate           51 non-null     float64\n",
      " 3   Median_income          50 non-null     float64\n",
      " 4   Percent_completed_hs   51 non-null     float64\n",
      " 5   share_white            51 non-null     float64\n",
      " 6   share_black            51 non-null     float64\n",
      " 7   share_native_american  51 non-null     float64\n",
      " 8   share_asian            51 non-null     float64\n",
      " 9   share_hispanic         51 non-null     float64\n",
      "dtypes: float64(9), object(1)\n",
      "memory usage: 4.1+ KB\n"
     ]
    }
   ],
   "source": [
    "df_Overall.info()"
   ]
  },
  {
   "cell_type": "code",
   "execution_count": 61,
   "id": "a9e8b73e",
   "metadata": {
    "scrolled": true
   },
   "outputs": [
    {
     "data": {
      "text/plain": [
       "0                        0\n",
       "Population               0\n",
       "Poverty_rate             0\n",
       "Median_income            1\n",
       "Percent_completed_hs     0\n",
       "share_white              0\n",
       "share_black              0\n",
       "share_native_american    0\n",
       "share_asian              0\n",
       "share_hispanic           0\n",
       "dtype: int64"
      ]
     },
     "execution_count": 61,
     "metadata": {},
     "output_type": "execute_result"
    }
   ],
   "source": [
    "df_Overall.isna().sum()"
   ]
  }
 ],
 "metadata": {
  "kernelspec": {
   "display_name": "Python 3 (ipykernel)",
   "language": "python",
   "name": "python3"
  },
  "language_info": {
   "codemirror_mode": {
    "name": "ipython",
    "version": 3
   },
   "file_extension": ".py",
   "mimetype": "text/x-python",
   "name": "python",
   "nbconvert_exporter": "python",
   "pygments_lexer": "ipython3",
   "version": "3.9.6"
  }
 },
 "nbformat": 4,
 "nbformat_minor": 5
}
