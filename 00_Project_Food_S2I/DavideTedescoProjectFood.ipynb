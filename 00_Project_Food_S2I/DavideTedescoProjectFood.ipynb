{
 "cells": [
  {
   "cell_type": "code",
   "execution_count": 13,
   "id": "4bdd68f9",
   "metadata": {},
   "outputs": [],
   "source": [
    "import pandas as pd\n",
    "df = pd.read_csv(fr'C:\\Users\\User\\#Progetti Jupyter Notebook\\00_Project\\Data\\Food_Production.csv')"
   ]
  },
  {
   "cell_type": "code",
   "execution_count": 14,
   "id": "698d61f2",
   "metadata": {
    "scrolled": true
   },
   "outputs": [
    {
     "ename": "UnicodeDecodeError",
     "evalue": "'utf-8' codec can't decode byte 0xf4 in position 210748: invalid continuation byte",
     "output_type": "error",
     "traceback": [
      "\u001b[1;31m---------------------------------------------------------------------------\u001b[0m",
      "\u001b[1;31mUnicodeDecodeError\u001b[0m                        Traceback (most recent call last)",
      "\u001b[1;32m~\\AppData\\Local\\Temp/ipykernel_8956/414821382.py\u001b[0m in \u001b[0;36m<module>\u001b[1;34m\u001b[0m\n\u001b[1;32m----> 1\u001b[1;33m \u001b[0mdf_1\u001b[0m \u001b[1;33m=\u001b[0m \u001b[0mpd\u001b[0m\u001b[1;33m.\u001b[0m\u001b[0mread_csv\u001b[0m\u001b[1;33m(\u001b[0m\u001b[1;34mfr'C:\\Users\\User\\#Progetti Jupyter Notebook\\00_Project\\Data\\FAO.csv'\u001b[0m\u001b[1;33m)\u001b[0m\u001b[1;33m\u001b[0m\u001b[1;33m\u001b[0m\u001b[0m\n\u001b[0m",
      "\u001b[1;32mc:\\users\\user\\appdata\\local\\programs\\python\\python39\\lib\\site-packages\\pandas\\util\\_decorators.py\u001b[0m in \u001b[0;36mwrapper\u001b[1;34m(*args, **kwargs)\u001b[0m\n\u001b[0;32m    309\u001b[0m                     \u001b[0mstacklevel\u001b[0m\u001b[1;33m=\u001b[0m\u001b[0mstacklevel\u001b[0m\u001b[1;33m,\u001b[0m\u001b[1;33m\u001b[0m\u001b[1;33m\u001b[0m\u001b[0m\n\u001b[0;32m    310\u001b[0m                 )\n\u001b[1;32m--> 311\u001b[1;33m             \u001b[1;32mreturn\u001b[0m \u001b[0mfunc\u001b[0m\u001b[1;33m(\u001b[0m\u001b[1;33m*\u001b[0m\u001b[0margs\u001b[0m\u001b[1;33m,\u001b[0m \u001b[1;33m**\u001b[0m\u001b[0mkwargs\u001b[0m\u001b[1;33m)\u001b[0m\u001b[1;33m\u001b[0m\u001b[1;33m\u001b[0m\u001b[0m\n\u001b[0m\u001b[0;32m    312\u001b[0m \u001b[1;33m\u001b[0m\u001b[0m\n\u001b[0;32m    313\u001b[0m         \u001b[1;32mreturn\u001b[0m \u001b[0mwrapper\u001b[0m\u001b[1;33m\u001b[0m\u001b[1;33m\u001b[0m\u001b[0m\n",
      "\u001b[1;32mc:\\users\\user\\appdata\\local\\programs\\python\\python39\\lib\\site-packages\\pandas\\io\\parsers\\readers.py\u001b[0m in \u001b[0;36mread_csv\u001b[1;34m(filepath_or_buffer, sep, delimiter, header, names, index_col, usecols, squeeze, prefix, mangle_dupe_cols, dtype, engine, converters, true_values, false_values, skipinitialspace, skiprows, skipfooter, nrows, na_values, keep_default_na, na_filter, verbose, skip_blank_lines, parse_dates, infer_datetime_format, keep_date_col, date_parser, dayfirst, cache_dates, iterator, chunksize, compression, thousands, decimal, lineterminator, quotechar, quoting, doublequote, escapechar, comment, encoding, encoding_errors, dialect, error_bad_lines, warn_bad_lines, on_bad_lines, delim_whitespace, low_memory, memory_map, float_precision, storage_options)\u001b[0m\n\u001b[0;32m    584\u001b[0m     \u001b[0mkwds\u001b[0m\u001b[1;33m.\u001b[0m\u001b[0mupdate\u001b[0m\u001b[1;33m(\u001b[0m\u001b[0mkwds_defaults\u001b[0m\u001b[1;33m)\u001b[0m\u001b[1;33m\u001b[0m\u001b[1;33m\u001b[0m\u001b[0m\n\u001b[0;32m    585\u001b[0m \u001b[1;33m\u001b[0m\u001b[0m\n\u001b[1;32m--> 586\u001b[1;33m     \u001b[1;32mreturn\u001b[0m \u001b[0m_read\u001b[0m\u001b[1;33m(\u001b[0m\u001b[0mfilepath_or_buffer\u001b[0m\u001b[1;33m,\u001b[0m \u001b[0mkwds\u001b[0m\u001b[1;33m)\u001b[0m\u001b[1;33m\u001b[0m\u001b[1;33m\u001b[0m\u001b[0m\n\u001b[0m\u001b[0;32m    587\u001b[0m \u001b[1;33m\u001b[0m\u001b[0m\n\u001b[0;32m    588\u001b[0m \u001b[1;33m\u001b[0m\u001b[0m\n",
      "\u001b[1;32mc:\\users\\user\\appdata\\local\\programs\\python\\python39\\lib\\site-packages\\pandas\\io\\parsers\\readers.py\u001b[0m in \u001b[0;36m_read\u001b[1;34m(filepath_or_buffer, kwds)\u001b[0m\n\u001b[0;32m    486\u001b[0m \u001b[1;33m\u001b[0m\u001b[0m\n\u001b[0;32m    487\u001b[0m     \u001b[1;32mwith\u001b[0m \u001b[0mparser\u001b[0m\u001b[1;33m:\u001b[0m\u001b[1;33m\u001b[0m\u001b[1;33m\u001b[0m\u001b[0m\n\u001b[1;32m--> 488\u001b[1;33m         \u001b[1;32mreturn\u001b[0m \u001b[0mparser\u001b[0m\u001b[1;33m.\u001b[0m\u001b[0mread\u001b[0m\u001b[1;33m(\u001b[0m\u001b[0mnrows\u001b[0m\u001b[1;33m)\u001b[0m\u001b[1;33m\u001b[0m\u001b[1;33m\u001b[0m\u001b[0m\n\u001b[0m\u001b[0;32m    489\u001b[0m \u001b[1;33m\u001b[0m\u001b[0m\n\u001b[0;32m    490\u001b[0m \u001b[1;33m\u001b[0m\u001b[0m\n",
      "\u001b[1;32mc:\\users\\user\\appdata\\local\\programs\\python\\python39\\lib\\site-packages\\pandas\\io\\parsers\\readers.py\u001b[0m in \u001b[0;36mread\u001b[1;34m(self, nrows)\u001b[0m\n\u001b[0;32m   1045\u001b[0m     \u001b[1;32mdef\u001b[0m \u001b[0mread\u001b[0m\u001b[1;33m(\u001b[0m\u001b[0mself\u001b[0m\u001b[1;33m,\u001b[0m \u001b[0mnrows\u001b[0m\u001b[1;33m=\u001b[0m\u001b[1;32mNone\u001b[0m\u001b[1;33m)\u001b[0m\u001b[1;33m:\u001b[0m\u001b[1;33m\u001b[0m\u001b[1;33m\u001b[0m\u001b[0m\n\u001b[0;32m   1046\u001b[0m         \u001b[0mnrows\u001b[0m \u001b[1;33m=\u001b[0m \u001b[0mvalidate_integer\u001b[0m\u001b[1;33m(\u001b[0m\u001b[1;34m\"nrows\"\u001b[0m\u001b[1;33m,\u001b[0m \u001b[0mnrows\u001b[0m\u001b[1;33m)\u001b[0m\u001b[1;33m\u001b[0m\u001b[1;33m\u001b[0m\u001b[0m\n\u001b[1;32m-> 1047\u001b[1;33m         \u001b[0mindex\u001b[0m\u001b[1;33m,\u001b[0m \u001b[0mcolumns\u001b[0m\u001b[1;33m,\u001b[0m \u001b[0mcol_dict\u001b[0m \u001b[1;33m=\u001b[0m \u001b[0mself\u001b[0m\u001b[1;33m.\u001b[0m\u001b[0m_engine\u001b[0m\u001b[1;33m.\u001b[0m\u001b[0mread\u001b[0m\u001b[1;33m(\u001b[0m\u001b[0mnrows\u001b[0m\u001b[1;33m)\u001b[0m\u001b[1;33m\u001b[0m\u001b[1;33m\u001b[0m\u001b[0m\n\u001b[0m\u001b[0;32m   1048\u001b[0m \u001b[1;33m\u001b[0m\u001b[0m\n\u001b[0;32m   1049\u001b[0m         \u001b[1;32mif\u001b[0m \u001b[0mindex\u001b[0m \u001b[1;32mis\u001b[0m \u001b[1;32mNone\u001b[0m\u001b[1;33m:\u001b[0m\u001b[1;33m\u001b[0m\u001b[1;33m\u001b[0m\u001b[0m\n",
      "\u001b[1;32mc:\\users\\user\\appdata\\local\\programs\\python\\python39\\lib\\site-packages\\pandas\\io\\parsers\\c_parser_wrapper.py\u001b[0m in \u001b[0;36mread\u001b[1;34m(self, nrows)\u001b[0m\n\u001b[0;32m    221\u001b[0m         \u001b[1;32mtry\u001b[0m\u001b[1;33m:\u001b[0m\u001b[1;33m\u001b[0m\u001b[1;33m\u001b[0m\u001b[0m\n\u001b[0;32m    222\u001b[0m             \u001b[1;32mif\u001b[0m \u001b[0mself\u001b[0m\u001b[1;33m.\u001b[0m\u001b[0mlow_memory\u001b[0m\u001b[1;33m:\u001b[0m\u001b[1;33m\u001b[0m\u001b[1;33m\u001b[0m\u001b[0m\n\u001b[1;32m--> 223\u001b[1;33m                 \u001b[0mchunks\u001b[0m \u001b[1;33m=\u001b[0m \u001b[0mself\u001b[0m\u001b[1;33m.\u001b[0m\u001b[0m_reader\u001b[0m\u001b[1;33m.\u001b[0m\u001b[0mread_low_memory\u001b[0m\u001b[1;33m(\u001b[0m\u001b[0mnrows\u001b[0m\u001b[1;33m)\u001b[0m\u001b[1;33m\u001b[0m\u001b[1;33m\u001b[0m\u001b[0m\n\u001b[0m\u001b[0;32m    224\u001b[0m                 \u001b[1;31m# destructive to chunks\u001b[0m\u001b[1;33m\u001b[0m\u001b[1;33m\u001b[0m\u001b[1;33m\u001b[0m\u001b[0m\n\u001b[0;32m    225\u001b[0m                 \u001b[0mdata\u001b[0m \u001b[1;33m=\u001b[0m \u001b[0m_concatenate_chunks\u001b[0m\u001b[1;33m(\u001b[0m\u001b[0mchunks\u001b[0m\u001b[1;33m)\u001b[0m\u001b[1;33m\u001b[0m\u001b[1;33m\u001b[0m\u001b[0m\n",
      "\u001b[1;32mc:\\users\\user\\appdata\\local\\programs\\python\\python39\\lib\\site-packages\\pandas\\_libs\\parsers.pyx\u001b[0m in \u001b[0;36mpandas._libs.parsers.TextReader.read_low_memory\u001b[1;34m()\u001b[0m\n",
      "\u001b[1;32mc:\\users\\user\\appdata\\local\\programs\\python\\python39\\lib\\site-packages\\pandas\\_libs\\parsers.pyx\u001b[0m in \u001b[0;36mpandas._libs.parsers.TextReader._read_rows\u001b[1;34m()\u001b[0m\n",
      "\u001b[1;32mc:\\users\\user\\appdata\\local\\programs\\python\\python39\\lib\\site-packages\\pandas\\_libs\\parsers.pyx\u001b[0m in \u001b[0;36mpandas._libs.parsers.TextReader._tokenize_rows\u001b[1;34m()\u001b[0m\n",
      "\u001b[1;32mc:\\users\\user\\appdata\\local\\programs\\python\\python39\\lib\\site-packages\\pandas\\_libs\\parsers.pyx\u001b[0m in \u001b[0;36mpandas._libs.parsers.raise_parser_error\u001b[1;34m()\u001b[0m\n",
      "\u001b[1;31mUnicodeDecodeError\u001b[0m: 'utf-8' codec can't decode byte 0xf4 in position 210748: invalid continuation byte"
     ]
    }
   ],
   "source": [
    "df_b1 = pd.read_csv(fr'C:\\Users\\User\\#Progetti Jupyter Notebook\\00_Project\\Data\\FAO.csv')"
   ]
  },
  {
   "cell_type": "code",
   "execution_count": 17,
   "id": "c1ecd45f",
   "metadata": {
    "scrolled": true
   },
   "outputs": [
    {
     "name": "stdout",
     "output_type": "stream",
     "text": [
      "<class 'pandas.core.frame.DataFrame'>\n",
      "RangeIndex: 43 entries, 0 to 42\n",
      "Data columns (total 23 columns):\n",
      " #   Column                                                                   Non-Null Count  Dtype  \n",
      "---  ------                                                                   --------------  -----  \n",
      " 0   Food product                                                             43 non-null     object \n",
      " 1   Land use change                                                          43 non-null     float64\n",
      " 2   Animal Feed                                                              43 non-null     float64\n",
      " 3   Farm                                                                     43 non-null     float64\n",
      " 4   Processing                                                               43 non-null     float64\n",
      " 5   Transport                                                                43 non-null     float64\n",
      " 6   Packging                                                                 43 non-null     float64\n",
      " 7   Retail                                                                   43 non-null     float64\n",
      " 8   Total_emissions                                                          43 non-null     float64\n",
      " 9   Eutrophying emissions per 1000kcal (gPO₄eq per 1000kcal)                 33 non-null     float64\n",
      " 10  Eutrophying emissions per kilogram (gPO₄eq per kilogram)                 38 non-null     float64\n",
      " 11  Eutrophying emissions per 100g protein (gPO₄eq per 100 grams protein)    27 non-null     float64\n",
      " 12  Freshwater withdrawals per 1000kcal (liters per 1000kcal)                30 non-null     float64\n",
      " 13  Freshwater withdrawals per 100g protein (liters per 100g protein)        26 non-null     float64\n",
      " 14  Freshwater withdrawals per kilogram (liters per kilogram)                38 non-null     float64\n",
      " 15  Greenhouse gas emissions per 1000kcal (kgCO₂eq per 1000kcal)             33 non-null     float64\n",
      " 16  Greenhouse gas emissions per 100g protein (kgCO₂eq per 100g protein)     27 non-null     float64\n",
      " 17  Land use per 1000kcal (m² per 1000kcal)                                  33 non-null     float64\n",
      " 18  Land use per kilogram (m² per kilogram)                                  38 non-null     float64\n",
      " 19  Land use per 100g protein (m² per 100g protein)                          27 non-null     float64\n",
      " 20  Scarcity-weighted water use per kilogram (liters per kilogram)           38 non-null     float64\n",
      " 21  Scarcity-weighted water use per 100g protein (liters per 100g protein)   26 non-null     float64\n",
      " 22  Scarcity-weighted water use per 1000kcal (liters per 1000 kilocalories)  30 non-null     float64\n",
      "dtypes: float64(22), object(1)\n",
      "memory usage: 7.9+ KB\n"
     ]
    }
   ],
   "source": [
    "df.info()"
   ]
  },
  {
   "cell_type": "code",
   "execution_count": 18,
   "id": "9899fde0",
   "metadata": {
    "scrolled": true
   },
   "outputs": [
    {
     "data": {
      "text/html": [
       "<div>\n",
       "<style scoped>\n",
       "    .dataframe tbody tr th:only-of-type {\n",
       "        vertical-align: middle;\n",
       "    }\n",
       "\n",
       "    .dataframe tbody tr th {\n",
       "        vertical-align: top;\n",
       "    }\n",
       "\n",
       "    .dataframe thead th {\n",
       "        text-align: right;\n",
       "    }\n",
       "</style>\n",
       "<table border=\"1\" class=\"dataframe\">\n",
       "  <thead>\n",
       "    <tr style=\"text-align: right;\">\n",
       "      <th></th>\n",
       "      <th>Food product</th>\n",
       "      <th>Land use change</th>\n",
       "      <th>Animal Feed</th>\n",
       "      <th>Farm</th>\n",
       "      <th>Processing</th>\n",
       "      <th>Transport</th>\n",
       "      <th>Packging</th>\n",
       "      <th>Retail</th>\n",
       "      <th>Total_emissions</th>\n",
       "      <th>Eutrophying emissions per 1000kcal (gPO₄eq per 1000kcal)</th>\n",
       "      <th>...</th>\n",
       "      <th>Freshwater withdrawals per 100g protein (liters per 100g protein)</th>\n",
       "      <th>Freshwater withdrawals per kilogram (liters per kilogram)</th>\n",
       "      <th>Greenhouse gas emissions per 1000kcal (kgCO₂eq per 1000kcal)</th>\n",
       "      <th>Greenhouse gas emissions per 100g protein (kgCO₂eq per 100g protein)</th>\n",
       "      <th>Land use per 1000kcal (m² per 1000kcal)</th>\n",
       "      <th>Land use per kilogram (m² per kilogram)</th>\n",
       "      <th>Land use per 100g protein (m² per 100g protein)</th>\n",
       "      <th>Scarcity-weighted water use per kilogram (liters per kilogram)</th>\n",
       "      <th>Scarcity-weighted water use per 100g protein (liters per 100g protein)</th>\n",
       "      <th>Scarcity-weighted water use per 1000kcal (liters per 1000 kilocalories)</th>\n",
       "    </tr>\n",
       "  </thead>\n",
       "  <tbody>\n",
       "    <tr>\n",
       "      <th>4</th>\n",
       "      <td>Rice</td>\n",
       "      <td>0.0</td>\n",
       "      <td>0.0</td>\n",
       "      <td>3.6</td>\n",
       "      <td>0.1</td>\n",
       "      <td>0.1</td>\n",
       "      <td>0.1</td>\n",
       "      <td>0.1</td>\n",
       "      <td>4.0</td>\n",
       "      <td>9.514379</td>\n",
       "      <td>...</td>\n",
       "      <td>3166.760563</td>\n",
       "      <td>2248.4</td>\n",
       "      <td>1.207271</td>\n",
       "      <td>6.267606</td>\n",
       "      <td>0.759631</td>\n",
       "      <td>2.8</td>\n",
       "      <td>3.943662</td>\n",
       "      <td>49576.3</td>\n",
       "      <td>69825.77465</td>\n",
       "      <td>13449.89148</td>\n",
       "    </tr>\n",
       "  </tbody>\n",
       "</table>\n",
       "<p>1 rows × 23 columns</p>\n",
       "</div>"
      ],
      "text/plain": [
       "  Food product  Land use change  Animal Feed  Farm  Processing  Transport  \\\n",
       "4         Rice              0.0          0.0   3.6         0.1        0.1   \n",
       "\n",
       "   Packging  Retail  Total_emissions  \\\n",
       "4       0.1     0.1              4.0   \n",
       "\n",
       "   Eutrophying emissions per 1000kcal (gPO₄eq per 1000kcal)  ...  \\\n",
       "4                                           9.514379         ...   \n",
       "\n",
       "   Freshwater withdrawals per 100g protein (liters per 100g protein)  \\\n",
       "4                                        3166.760563                   \n",
       "\n",
       "   Freshwater withdrawals per kilogram (liters per kilogram)  \\\n",
       "4                                             2248.4           \n",
       "\n",
       "   Greenhouse gas emissions per 1000kcal (kgCO₂eq per 1000kcal)  \\\n",
       "4                                           1.207271              \n",
       "\n",
       "   Greenhouse gas emissions per 100g protein (kgCO₂eq per 100g protein)  \\\n",
       "4                                           6.267606                      \n",
       "\n",
       "   Land use per 1000kcal (m² per 1000kcal)  \\\n",
       "4                                 0.759631   \n",
       "\n",
       "   Land use per kilogram (m² per kilogram)  \\\n",
       "4                                      2.8   \n",
       "\n",
       "   Land use per 100g protein (m² per 100g protein)  \\\n",
       "4                                         3.943662   \n",
       "\n",
       "   Scarcity-weighted water use per kilogram (liters per kilogram)  \\\n",
       "4                                            49576.3                \n",
       "\n",
       "   Scarcity-weighted water use per 100g protein (liters per 100g protein)  \\\n",
       "4                                        69825.77465                        \n",
       "\n",
       "   Scarcity-weighted water use per 1000kcal (liters per 1000 kilocalories)  \n",
       "4                                        13449.89148                        \n",
       "\n",
       "[1 rows x 23 columns]"
      ]
     },
     "execution_count": 18,
     "metadata": {},
     "output_type": "execute_result"
    }
   ],
   "source": [
    "df.sample()"
   ]
  },
  {
   "cell_type": "code",
   "execution_count": 20,
   "id": "8c8fd6a1",
   "metadata": {},
   "outputs": [
    {
     "data": {
      "text/plain": [
       "Food product                                                                      Rice\n",
       "Land use change                                                                    0.0\n",
       "Animal Feed                                                                        0.0\n",
       "Farm                                                                               3.6\n",
       "Processing                                                                         0.1\n",
       "Transport                                                                          0.1\n",
       "Packging                                                                           0.1\n",
       "Retail                                                                             0.1\n",
       "Total_emissions                                                                    4.0\n",
       "Eutrophying emissions per 1000kcal (gPO₄eq per 1000kcal)                      9.514379\n",
       "Eutrophying emissions per kilogram (gPO₄eq per kilogram)                         35.07\n",
       "Eutrophying emissions per 100g protein (gPO₄eq per 100 grams protein)        49.394366\n",
       "Freshwater withdrawals per 1000kcal (liters per 1000kcal)                   609.983722\n",
       "Freshwater withdrawals per 100g protein (liters per 100g protein)          3166.760563\n",
       "Freshwater withdrawals per kilogram (liters per kilogram)                       2248.4\n",
       "Greenhouse gas emissions per 1000kcal (kgCO₂eq per 1000kcal)                  1.207271\n",
       "Greenhouse gas emissions per 100g protein (kgCO₂eq per 100g protein)          6.267606\n",
       "Land use per 1000kcal (m² per 1000kcal)                                       0.759631\n",
       "Land use per kilogram (m² per kilogram)                                            2.8\n",
       "Land use per 100g protein (m² per 100g protein)                               3.943662\n",
       "Scarcity-weighted water use per kilogram (liters per kilogram)                 49576.3\n",
       "Scarcity-weighted water use per 100g protein (liters per 100g protein)     69825.77465\n",
       "Scarcity-weighted water use per 1000kcal (liters per 1000 kilocalories)    13449.89148\n",
       "Name: 4, dtype: object"
      ]
     },
     "execution_count": 20,
     "metadata": {},
     "output_type": "execute_result"
    }
   ],
   "source": [
    "df.loc[4]"
   ]
  }
 ],
 "metadata": {
  "kernelspec": {
   "display_name": "Python 3 (ipykernel)",
   "language": "python",
   "name": "python3"
  },
  "language_info": {
   "codemirror_mode": {
    "name": "ipython",
    "version": 3
   },
   "file_extension": ".py",
   "mimetype": "text/x-python",
   "name": "python",
   "nbconvert_exporter": "python",
   "pygments_lexer": "ipython3",
   "version": "3.9.6"
  }
 },
 "nbformat": 4,
 "nbformat_minor": 5
}
